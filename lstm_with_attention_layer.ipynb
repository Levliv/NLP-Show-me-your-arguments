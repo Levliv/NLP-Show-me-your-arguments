{
  "nbformat": 4,
  "nbformat_minor": 0,
  "metadata": {
    "colab": {
      "provenance": []
    },
    "kernelspec": {
      "name": "python3",
      "display_name": "Python 3"
    },
    "language_info": {
      "name": "python"
    }
  },
  "cells": [
    {
      "cell_type": "code",
      "execution_count": 16,
      "metadata": {
        "id": "fH-IPW8djD1o"
      },
      "outputs": [],
      "source": [
        "import numpy as np\n",
        "import pandas as pd\n",
        "import gensim.downloader as api\n",
        "import torch\n",
        "import torch.nn as nn\n",
        "import torch.nn.functional as F\n",
        "import torch.optim as optim\n",
        "import re\n",
        "import random\n",
        "from string import punctuation\n",
        "from tqdm import tqdm"
      ]
    },
    {
      "cell_type": "code",
      "source": [
        "np.random.seed(42)\n",
        "random.seed(42)\n",
        "torch.manual_seed(42)\n",
        "if torch.cuda.is_available():\n",
        "    torch.cuda.manual_seed_all(42)\n",
        "torch.backends.cudnn.deterministic = True\n",
        "torch.backends.cudnn.benchmark = False"
      ],
      "metadata": {
        "id": "JL_ayf8wCxr2"
      },
      "execution_count": 18,
      "outputs": []
    },
    {
      "cell_type": "code",
      "source": [
        "train_df = pd.read_csv(\"train.csv\")\n",
        "test_df = pd.read_csv(\"test.csv\")\n",
        "train_df.head()"
      ],
      "metadata": {
        "colab": {
          "base_uri": "https://localhost:8080/",
          "height": 397
        },
        "id": "kzWGktX9jTvZ",
        "outputId": "b5eaf086-8328-4509-f027-7b7c852f82ce"
      },
      "execution_count": 2,
      "outputs": [
        {
          "output_type": "execute_result",
          "data": {
            "text/plain": [
              "                                    topic the concept of the topic  \\\n",
              "0  We should limit executive compensation   executive compensation   \n",
              "1  We should limit executive compensation   executive compensation   \n",
              "2  We should limit executive compensation   executive compensation   \n",
              "3  We should limit executive compensation   executive compensation   \n",
              "4  We should limit executive compensation   executive compensation   \n",
              "\n",
              "                                           candidate  \\\n",
              "0  A say on pay - a non-binding vote of the gener...   \n",
              "1  A February 2009 report, published by the Insti...   \n",
              "2  The Financial Crisis has had a relatively smal...   \n",
              "3  1990-1992 Lineberger Cancer Center, SPA person...   \n",
              "4  Countering the public uproar over excessive ex...   \n",
              "\n",
              "                                    candidate masked  label  \\\n",
              "0  A say on pay - a non-binding vote of the gener...      0   \n",
              "1  A February 2009 report, published by the Insti...      1   \n",
              "2  The Financial Crisis has had a relatively smal...      0   \n",
              "3  1990-1992 Lineberger Cancer Center, SPA person...      0   \n",
              "4  Countering the public uproar over excessive TO...      0   \n",
              "\n",
              "  wikipedia article name                                wikipedia url  \n",
              "0          Executive pay  https://en.wikipedia.org/wiki/Executive_pay  \n",
              "1          Executive pay  https://en.wikipedia.org/wiki/Executive_pay  \n",
              "2          Executive pay  https://en.wikipedia.org/wiki/Executive_pay  \n",
              "3             Edison Liu     https://en.wikipedia.org/wiki/Edison_Liu  \n",
              "4             Jack Welch     https://en.wikipedia.org/wiki/Jack_Welch  "
            ],
            "text/html": [
              "<div>\n",
              "<style scoped>\n",
              "    .dataframe tbody tr th:only-of-type {\n",
              "        vertical-align: middle;\n",
              "    }\n",
              "\n",
              "    .dataframe tbody tr th {\n",
              "        vertical-align: top;\n",
              "    }\n",
              "\n",
              "    .dataframe thead th {\n",
              "        text-align: right;\n",
              "    }\n",
              "</style>\n",
              "<table border=\"1\" class=\"dataframe\">\n",
              "  <thead>\n",
              "    <tr style=\"text-align: right;\">\n",
              "      <th></th>\n",
              "      <th>topic</th>\n",
              "      <th>the concept of the topic</th>\n",
              "      <th>candidate</th>\n",
              "      <th>candidate masked</th>\n",
              "      <th>label</th>\n",
              "      <th>wikipedia article name</th>\n",
              "      <th>wikipedia url</th>\n",
              "    </tr>\n",
              "  </thead>\n",
              "  <tbody>\n",
              "    <tr>\n",
              "      <th>0</th>\n",
              "      <td>We should limit executive compensation</td>\n",
              "      <td>executive compensation</td>\n",
              "      <td>A say on pay - a non-binding vote of the gener...</td>\n",
              "      <td>A say on pay - a non-binding vote of the gener...</td>\n",
              "      <td>0</td>\n",
              "      <td>Executive pay</td>\n",
              "      <td>https://en.wikipedia.org/wiki/Executive_pay</td>\n",
              "    </tr>\n",
              "    <tr>\n",
              "      <th>1</th>\n",
              "      <td>We should limit executive compensation</td>\n",
              "      <td>executive compensation</td>\n",
              "      <td>A February 2009 report, published by the Insti...</td>\n",
              "      <td>A February 2009 report, published by the Insti...</td>\n",
              "      <td>1</td>\n",
              "      <td>Executive pay</td>\n",
              "      <td>https://en.wikipedia.org/wiki/Executive_pay</td>\n",
              "    </tr>\n",
              "    <tr>\n",
              "      <th>2</th>\n",
              "      <td>We should limit executive compensation</td>\n",
              "      <td>executive compensation</td>\n",
              "      <td>The Financial Crisis has had a relatively smal...</td>\n",
              "      <td>The Financial Crisis has had a relatively smal...</td>\n",
              "      <td>0</td>\n",
              "      <td>Executive pay</td>\n",
              "      <td>https://en.wikipedia.org/wiki/Executive_pay</td>\n",
              "    </tr>\n",
              "    <tr>\n",
              "      <th>3</th>\n",
              "      <td>We should limit executive compensation</td>\n",
              "      <td>executive compensation</td>\n",
              "      <td>1990-1992 Lineberger Cancer Center, SPA person...</td>\n",
              "      <td>1990-1992 Lineberger Cancer Center, SPA person...</td>\n",
              "      <td>0</td>\n",
              "      <td>Edison Liu</td>\n",
              "      <td>https://en.wikipedia.org/wiki/Edison_Liu</td>\n",
              "    </tr>\n",
              "    <tr>\n",
              "      <th>4</th>\n",
              "      <td>We should limit executive compensation</td>\n",
              "      <td>executive compensation</td>\n",
              "      <td>Countering the public uproar over excessive ex...</td>\n",
              "      <td>Countering the public uproar over excessive TO...</td>\n",
              "      <td>0</td>\n",
              "      <td>Jack Welch</td>\n",
              "      <td>https://en.wikipedia.org/wiki/Jack_Welch</td>\n",
              "    </tr>\n",
              "  </tbody>\n",
              "</table>\n",
              "</div>"
            ]
          },
          "metadata": {},
          "execution_count": 2
        }
      ]
    },
    {
      "cell_type": "code",
      "source": [
        "word_re = re.compile(r\"\\b[a-z]{2,}\\b\")\n",
        "\n",
        "def tokenize(text):\n",
        "    processed_text = \"\".join(ch for ch in text.lower() if ch not in punctuation)\n",
        "    processed_text = processed_text.replace(\"\\n\", \" \")\n",
        "    return word_re.findall(processed_text)"
      ],
      "metadata": {
        "id": "YM1dblHFjZvc"
      },
      "execution_count": 3,
      "outputs": []
    },
    {
      "cell_type": "code",
      "source": [
        "all_train = train_df['candidate'].apply(tokenize)\n",
        "test = test_df['candidate'].apply(tokenize)\n",
        "all_train"
      ],
      "metadata": {
        "colab": {
          "base_uri": "https://localhost:8080/"
        },
        "id": "oggNiGnsjxLS",
        "outputId": "d289f692-207a-4ff3-9f3d-0c284ecabfc4"
      },
      "execution_count": 4,
      "outputs": [
        {
          "output_type": "execute_result",
          "data": {
            "text/plain": [
              "0       [say, on, pay, nonbinding, vote, of, the, gene...\n",
              "1       [february, report, published, by, the, institu...\n",
              "2       [the, financial, crisis, has, had, relatively,...\n",
              "3       [lineberger, cancer, center, spa, personnel, c...\n",
              "4       [countering, the, public, uproar, over, excess...\n",
              "                              ...                        \n",
              "4060    [new, zealand, prime, minister, john, key, sai...\n",
              "4061    [the, international, monarchist, league, found...\n",
              "4062    [on, march, three, shiite, groups, formed, the...\n",
              "4063    [the, gulf, states, were, especially, inclined...\n",
              "4064    [in, may, poll, by, angus, reid, found, that, ...\n",
              "Name: candidate, Length: 4065, dtype: object"
            ]
          },
          "metadata": {},
          "execution_count": 4
        }
      ]
    },
    {
      "cell_type": "code",
      "source": [
        "embed_size = 300\n",
        "wv = api.load(f'glove-wiki-gigaword-{embed_size}')"
      ],
      "metadata": {
        "id": "ISo1GZLCj4a1"
      },
      "execution_count": 5,
      "outputs": []
    },
    {
      "cell_type": "code",
      "source": [
        "vocab = pd.Series(wv.key_to_index) + 1\n",
        "encoded_train = all_train.apply(lambda x: [vocab.get(w, 0) for w in x])\n",
        "encoded_test = test.apply(lambda x: [vocab.get(w, 0) for w in x])\n",
        "encoded_train"
      ],
      "metadata": {
        "colab": {
          "base_uri": "https://localhost:8080/"
        },
        "id": "qcJhgqR7kDZ7",
        "outputId": "c779223c-4798-475f-bfc0-f96a44d01bf3"
      },
      "execution_count": 6,
      "outputs": [
        {
          "output_type": "execute_result",
          "data": {
            "text/plain": [
              "0       [204, 14, 643, 27374, 539, 4, 1, 217, 287, 5, ...\n",
              "1       [618, 256, 736, 22, 1, 1065, 11, 528, 1380, 21...\n",
              "2       [1, 396, 722, 32, 41, 2224, 358, 1051, 1262, 1...\n",
              "3              [249139, 1648, 314, 7213, 2076, 3532, 447]\n",
              "4       [22804, 1, 199, 14954, 75, 6341, 617, 643, 145...\n",
              "                              ...                        \n",
              "4060    [51, 1273, 336, 142, 280, 639, 17, 19, 1055, 1...\n",
              "4061    [1, 147, 47401, 293, 1298, 7, 43, 32, 52, 192,...\n",
              "4062    [14, 305, 88, 2582, 504, 1348, 1, 1127, 11, 23...\n",
              "4063    [1, 1666, 113, 36, 859, 11730, 5, 1656, 30, 18...\n",
              "4064    [7, 108, 1888, 22, 16293, 5700, 239, 13, 57, 7...\n",
              "Name: candidate, Length: 4065, dtype: object"
            ]
          },
          "metadata": {},
          "execution_count": 6
        }
      ]
    },
    {
      "cell_type": "code",
      "source": [
        "encoded_labels = train_df['label'].to_numpy()\n",
        "encoded_labels_test = test_df['label'].to_numpy()\n",
        "encoded_labels"
      ],
      "metadata": {
        "colab": {
          "base_uri": "https://localhost:8080/"
        },
        "id": "DueWAnQnyQs1",
        "outputId": "837a6d3f-8694-4287-9779-b466fee3fda2"
      },
      "execution_count": 7,
      "outputs": [
        {
          "output_type": "execute_result",
          "data": {
            "text/plain": [
              "array([0, 1, 0, ..., 1, 1, 0])"
            ]
          },
          "metadata": {},
          "execution_count": 7
        }
      ]
    },
    {
      "cell_type": "code",
      "source": [
        "def pad_data(encoded_data, seq_length):\n",
        "    data = encoded_data[:seq_length]\n",
        "    padded_data = np.zeros(seq_length, dtype=int)\n",
        "    padded_data[-len(data):] = data\n",
        "    return padded_data\n",
        "\n",
        "padded_train = np.stack(encoded_train.apply(pad_data, seq_length=81))\n",
        "padded_test = np.stack(encoded_test.apply(pad_data, seq_length=81))\n",
        "padded_train"
      ],
      "metadata": {
        "colab": {
          "base_uri": "https://localhost:8080/"
        },
        "id": "vnRR8zYNkO8e",
        "outputId": "141c4f8a-f079-47df-a301-152b748b343e"
      },
      "execution_count": 8,
      "outputs": [
        {
          "output_type": "execute_result",
          "data": {
            "text/plain": [
              "array([[    0,     0,     0, ...,   224,     4,   253],\n",
              "       [    0,     0,     0, ...,     6,  3568, 19812],\n",
              "       [    0,     0,     0, ...,    14,   617,   643],\n",
              "       ...,\n",
              "       [    0,     0,     0, ...,   591,   875, 29127],\n",
              "       [    0,     0,     0, ...,     4,    79, 29127],\n",
              "       [    0,     0,     0, ...,  4828,   915,   101]])"
            ]
          },
          "metadata": {},
          "execution_count": 8
        }
      ]
    },
    {
      "cell_type": "code",
      "source": [
        "train_ratio = 0.85\n",
        "total = padded_train.shape[0]\n",
        "train_cutoff = int(total * train_ratio)\n",
        "\n",
        "train_x, train_y = torch.from_numpy(padded_train[:train_cutoff]), torch.from_numpy(encoded_labels[:train_cutoff])\n",
        "valid_x, valid_y = torch.from_numpy(padded_train[train_cutoff:]), torch.from_numpy(encoded_labels[train_cutoff:])\n",
        "\n",
        "test_x, test_y = torch.from_numpy(padded_test), torch.from_numpy(encoded_labels_test)\n",
        "\n",
        "from torch.utils.data import TensorDataset, DataLoader\n",
        "\n",
        "train_data = TensorDataset(train_x, train_y)\n",
        "valid_data = TensorDataset(valid_x, valid_y)\n",
        "test_data = TensorDataset(test_x, test_y)\n",
        "\n",
        "BATCH_SIZE = 32\n",
        "train_loader = DataLoader(train_data, batch_size = BATCH_SIZE, shuffle = True)\n",
        "valid_loader = DataLoader(valid_data, batch_size = BATCH_SIZE, shuffle = True)\n",
        "test_loader = DataLoader(test_data, batch_size = BATCH_SIZE, shuffle = True)"
      ],
      "metadata": {
        "id": "0fippUxvw_GC"
      },
      "execution_count": 9,
      "outputs": []
    },
    {
      "cell_type": "code",
      "source": [
        "class SentimentLSTM(nn.Module):\n",
        "\n",
        "    def __init__(self, n_vocab, n_embed, n_hidden, n_output, n_layers, attention_size, drop_p = 0.85):\n",
        "        super().__init__()\n",
        "        # params: \"n_\" means dimension\n",
        "\n",
        "        self.n_vocab = n_vocab\n",
        "        self.n_layers = n_layers\n",
        "        self.n_hidden = n_hidden\n",
        "\n",
        "        self.embedding = nn.Embedding.from_pretrained(wv_torch_with_pad)\n",
        "        self.lstm = nn.LSTM(n_embed, n_hidden, n_layers, bidirectional=True, batch_first = True, dropout = drop_p)\n",
        "        self.fc = nn.Linear(n_hidden*2, n_output)\n",
        "\n",
        "        self.attention = nn.Linear(n_hidden * 2, attention_size)\n",
        "        self.attention_combine = nn.Linear(attention_size, 1, bias=False)\n",
        "\n",
        "        self.dropout = nn.Dropout(drop_p)\n",
        "        self.sigmoid = nn.Sigmoid()\n",
        "        self.__init_linear()\n",
        "\n",
        "\n",
        "    def forward (self, input_words, hidden_state=None):\n",
        "        if hidden_state is None:\n",
        "            h, c = self.init_hidden(input_words.shape[0])\n",
        "        else:\n",
        "            h, c = hidden_state\n",
        "        x = self.embedding(input_words)\n",
        "        lstm_out, (h, c) = self.lstm(x, (h, c))\n",
        "\n",
        "        # Attention mechanism\n",
        "        attention_weights = torch.tanh(self.attention(lstm_out))  # Get attention weights\n",
        "        attention_weights = F.softmax(self.attention_combine(attention_weights), dim=1)\n",
        "        context_vector = torch.sum(attention_weights * lstm_out, dim=1)\n",
        "\n",
        "        # Classification\n",
        "        fc_out = self.fc(context_vector)\n",
        "        sigmoid_out = self.sigmoid(fc_out)\n",
        "\n",
        "        return sigmoid_out, (h, c)\n",
        "\n",
        "\n",
        "    def __init_linear(self):\n",
        "        self.fc.weight.data.normal_(0.0, 1/np.sqrt(self.n_hidden * 2))\n",
        "        self.fc.bias.data.fill_(0)\n",
        "\n",
        "\n",
        "    def init_hidden(self, batch_size):\n",
        "        device = torch.device(\"cuda\" if torch.cuda.is_available() else \"cpu\")\n",
        "        weights = next(self.parameters()).data\n",
        "        h = (weights.new(self.n_layers * 2, batch_size, self.n_hidden).zero_().to(device),\n",
        "             weights.new(self.n_layers * 2, batch_size, self.n_hidden).zero_().to(device))\n",
        "\n",
        "        return h"
      ],
      "metadata": {
        "id": "_xlHoTyNyqQN"
      },
      "execution_count": 20,
      "outputs": []
    },
    {
      "cell_type": "code",
      "source": [
        "# torch.cat\n",
        "wv_torch = torch.from_numpy(wv.vectors)\n",
        "pad = torch.zeros((1, wv_torch.shape[1]))\n",
        "wv_torch_with_pad = torch.cat((pad, wv_torch), dim=0)"
      ],
      "metadata": {
        "id": "_AN8Xf-azE5K"
      },
      "execution_count": 21,
      "outputs": []
    },
    {
      "cell_type": "code",
      "source": [
        "n_vocab = wv_torch_with_pad.shape[0]\n",
        "n_embed = wv_torch_with_pad.shape[1]\n",
        "n_hidden = 128\n",
        "n_output = 1\n",
        "n_layers = 2\n",
        "attention_size = 100\n",
        "\n",
        "net = SentimentLSTM(n_vocab, n_embed, n_hidden, n_output, n_layers, attention_size)\n",
        "\n",
        "criterion = nn.BCELoss()\n",
        "optimizer = optim.Adam(net.parameters(), lr = 0.001, weight_decay=1e-5)"
      ],
      "metadata": {
        "id": "hg9sHVDrysN-"
      },
      "execution_count": 31,
      "outputs": []
    },
    {
      "cell_type": "code",
      "source": [
        "print_every = 50\n",
        "step = 0\n",
        "n_epochs = 12\n",
        "clip = 1\n",
        "device = torch.device(\"cuda\" if torch.cuda.is_available() else \"cpu\")\n",
        "net.to(device)\n",
        "net.train()\n",
        "\n",
        "val_losses = []\n",
        "val_accuracy = []\n",
        "for epoch in tqdm(range(n_epochs)):\n",
        "    for inputs, labels in tqdm(train_loader):\n",
        "        step += 1\n",
        "        inputs, labels = inputs.to(device), labels.to(device)\n",
        "\n",
        "        output, t = net(inputs)\n",
        "        loss = criterion(output.squeeze(), labels.float())\n",
        "        loss.backward()\n",
        "        nn.utils.clip_grad_norm_(net.parameters(), clip)\n",
        "        optimizer.step()\n",
        "        optimizer.zero_grad()\n",
        "\n",
        "        if (step % print_every) == 0:\n",
        "            ######################\n",
        "            ##### VALIDATION #####\n",
        "            ######################\n",
        "            net.eval()\n",
        "            valid_losses = []\n",
        "            val_accuracy = []\n",
        "            v_h = net.init_hidden(BATCH_SIZE)\n",
        "\n",
        "            for v_inputs, v_labels in valid_loader:\n",
        "                v_inputs, v_labels = inputs.to(device), labels.to(device)\n",
        "\n",
        "                v_output, _ = net(v_inputs)\n",
        "                v_loss = criterion(v_output.squeeze(), v_labels.float())\n",
        "                valid_losses.append(v_loss.item())\n",
        "\n",
        "                predictions = torch.round(torch.sigmoid(v_output.squeeze()))\n",
        "\n",
        "            print(\"Epoch: {}/{}\".format((epoch+1), n_epochs),\n",
        "                  \"Step: {}\".format(step),\n",
        "                  \"Training Loss: {:.4f}\".format(loss.item()),\n",
        "                  \"Validation Loss: {:.4f}\".format(np.mean(valid_losses)))\n",
        "            net.train()"
      ],
      "metadata": {
        "colab": {
          "base_uri": "https://localhost:8080/"
        },
        "id": "jjfjKrUpzL3T",
        "outputId": "d5062571-380d-4ea4-cbfc-fe4a35bfd162"
      },
      "execution_count": 32,
      "outputs": [
        {
          "output_type": "stream",
          "name": "stderr",
          "text": [
            "  0%|                                                    | 0/12 [00:00<?, ?it/s]\n",
            "  0%|                                                   | 0/108 [00:00<?, ?it/s]\u001b[A\n",
            "  1%|▍                                          | 1/108 [00:00<00:15,  6.88it/s]\u001b[A\n",
            "  3%|█▏                                         | 3/108 [00:00<00:09, 10.97it/s]\u001b[A\n",
            "  5%|█▉                                         | 5/108 [00:00<00:08, 12.47it/s]\u001b[A\n",
            "  6%|██▊                                        | 7/108 [00:00<00:07, 13.40it/s]\u001b[A\n",
            "  8%|███▌                                       | 9/108 [00:00<00:07, 13.90it/s]\u001b[A\n",
            " 10%|████▎                                     | 11/108 [00:00<00:06, 14.32it/s]\u001b[A\n",
            " 12%|█████                                     | 13/108 [00:00<00:06, 14.50it/s]\u001b[A\n",
            " 14%|█████▊                                    | 15/108 [00:01<00:06, 14.61it/s]\u001b[A\n",
            " 16%|██████▌                                   | 17/108 [00:01<00:06, 14.58it/s]\u001b[A\n",
            " 18%|███████▍                                  | 19/108 [00:01<00:06, 14.50it/s]\u001b[A\n",
            " 19%|████████▏                                 | 21/108 [00:01<00:05, 14.57it/s]\u001b[A\n",
            " 21%|████████▉                                 | 23/108 [00:01<00:05, 14.76it/s]\u001b[A\n",
            " 23%|█████████▋                                | 25/108 [00:01<00:05, 14.68it/s]\u001b[A\n",
            " 25%|██████████▌                               | 27/108 [00:01<00:05, 14.79it/s]\u001b[A\n",
            " 27%|███████████▎                              | 29/108 [00:02<00:05, 14.84it/s]\u001b[A\n",
            " 29%|████████████                              | 31/108 [00:02<00:05, 14.70it/s]\u001b[A\n",
            " 31%|████████████▊                             | 33/108 [00:02<00:05, 14.70it/s]\u001b[A\n",
            " 32%|█████████████▌                            | 35/108 [00:02<00:04, 14.63it/s]\u001b[A\n",
            " 34%|██████████████▍                           | 37/108 [00:02<00:04, 14.42it/s]\u001b[A\n",
            " 36%|███████████████▏                          | 39/108 [00:02<00:04, 14.45it/s]\u001b[A\n",
            " 38%|███████████████▉                          | 41/108 [00:02<00:04, 14.44it/s]\u001b[A\n",
            " 40%|████████████████▋                         | 43/108 [00:03<00:04, 14.52it/s]\u001b[A\n",
            " 42%|█████████████████▌                        | 45/108 [00:03<00:04, 14.61it/s]\u001b[A\n",
            " 44%|██████████████████▎                       | 47/108 [00:03<00:04, 14.55it/s]\u001b[A\n",
            " 45%|███████████████████                       | 49/108 [00:03<00:04, 14.40it/s]\u001b[A\n",
            " 47%|███████████████████▊                      | 51/108 [00:04<00:09,  5.80it/s]\u001b[A"
          ]
        },
        {
          "output_type": "stream",
          "name": "stdout",
          "text": [
            "Epoch: 1/12 Step: 50 Training Loss: 0.5553 Validation Loss: 0.5419\n"
          ]
        },
        {
          "output_type": "stream",
          "name": "stderr",
          "text": [
            "\n",
            " 49%|████████████████████▌                     | 53/108 [00:04<00:07,  7.01it/s]\u001b[A\n",
            " 51%|█████████████████████▍                    | 55/108 [00:04<00:06,  8.23it/s]\u001b[A\n",
            " 53%|██████████████████████▏                   | 57/108 [00:04<00:05,  9.46it/s]\u001b[A\n",
            " 55%|██████████████████████▉                   | 59/108 [00:04<00:04, 10.59it/s]\u001b[A\n",
            " 56%|███████████████████████▋                  | 61/108 [00:04<00:04, 11.59it/s]\u001b[A\n",
            " 58%|████████████████████████▌                 | 63/108 [00:05<00:03, 12.32it/s]\u001b[A\n",
            " 60%|█████████████████████████▎                | 65/108 [00:05<00:03, 13.08it/s]\u001b[A\n",
            " 62%|██████████████████████████                | 67/108 [00:05<00:03, 13.55it/s]\u001b[A\n",
            " 64%|██████████████████████████▊               | 69/108 [00:05<00:02, 13.96it/s]\u001b[A\n",
            " 66%|███████████████████████████▌              | 71/108 [00:05<00:02, 14.15it/s]\u001b[A\n",
            " 68%|████████████████████████████▍             | 73/108 [00:05<00:02, 14.28it/s]\u001b[A\n",
            " 69%|█████████████████████████████▏            | 75/108 [00:05<00:02, 14.41it/s]\u001b[A\n",
            " 71%|█████████████████████████████▉            | 77/108 [00:06<00:02, 14.46it/s]\u001b[A\n",
            " 73%|██████████████████████████████▋           | 79/108 [00:06<00:01, 14.61it/s]\u001b[A\n",
            " 75%|███████████████████████████████▌          | 81/108 [00:06<00:01, 14.64it/s]\u001b[A\n",
            " 77%|████████████████████████████████▎         | 83/108 [00:06<00:01, 14.75it/s]\u001b[A\n",
            " 79%|█████████████████████████████████         | 85/108 [00:06<00:01, 14.78it/s]\u001b[A\n",
            " 81%|█████████████████████████████████▊        | 87/108 [00:06<00:01, 13.12it/s]\u001b[A\n",
            " 82%|██████████████████████████████████▌       | 89/108 [00:06<00:01, 13.59it/s]\u001b[A\n",
            " 84%|███████████████████████████████████▍      | 91/108 [00:07<00:01, 13.95it/s]\u001b[A\n",
            " 86%|████████████████████████████████████▏     | 93/108 [00:07<00:01, 14.32it/s]\u001b[A\n",
            " 88%|████████████████████████████████████▉     | 95/108 [00:07<00:00, 14.55it/s]\u001b[A\n",
            " 90%|█████████████████████████████████████▋    | 97/108 [00:07<00:00, 14.43it/s]\u001b[A\n",
            " 92%|██████████████████████████████████████▌   | 99/108 [00:07<00:00, 14.39it/s]\u001b[A\n",
            " 94%|██████████████████████████████████████▎  | 101/108 [00:08<00:01,  5.93it/s]\u001b[A\n",
            " 95%|███████████████████████████████████████  | 103/108 [00:08<00:00,  7.26it/s]\u001b[A"
          ]
        },
        {
          "output_type": "stream",
          "name": "stdout",
          "text": [
            "Epoch: 1/12 Step: 100 Training Loss: 0.5241 Validation Loss: 0.5124\n"
          ]
        },
        {
          "output_type": "stream",
          "name": "stderr",
          "text": [
            "\n",
            " 97%|███████████████████████████████████████▊ | 105/108 [00:08<00:00,  8.62it/s]\u001b[A\n",
            "100%|█████████████████████████████████████████| 108/108 [00:08<00:00, 12.21it/s]\n",
            "  8%|███▋                                        | 1/12 [00:08<01:37,  8.85s/it]\n",
            "  0%|                                                   | 0/108 [00:00<?, ?it/s]\u001b[A\n",
            "  2%|▊                                          | 2/108 [00:00<00:06, 15.30it/s]\u001b[A\n",
            "  4%|█▌                                         | 4/108 [00:00<00:07, 14.82it/s]\u001b[A\n",
            "  6%|██▍                                        | 6/108 [00:00<00:07, 13.90it/s]\u001b[A\n",
            "  7%|███▏                                       | 8/108 [00:00<00:07, 14.16it/s]\u001b[A\n",
            "  9%|███▉                                      | 10/108 [00:00<00:06, 14.16it/s]\u001b[A\n",
            " 11%|████▋                                     | 12/108 [00:00<00:06, 14.47it/s]\u001b[A\n",
            " 13%|█████▍                                    | 14/108 [00:00<00:06, 14.65it/s]\u001b[A\n",
            " 15%|██████▏                                   | 16/108 [00:01<00:06, 14.77it/s]\u001b[A\n",
            " 17%|███████                                   | 18/108 [00:01<00:06, 14.74it/s]\u001b[A\n",
            " 19%|███████▊                                  | 20/108 [00:01<00:05, 14.69it/s]\u001b[A\n",
            " 20%|████████▌                                 | 22/108 [00:01<00:05, 14.79it/s]\u001b[A\n",
            " 22%|█████████▎                                | 24/108 [00:01<00:05, 14.85it/s]\u001b[A\n",
            " 24%|██████████                                | 26/108 [00:01<00:05, 14.92it/s]\u001b[A\n",
            " 26%|██████████▉                               | 28/108 [00:01<00:05, 14.91it/s]\u001b[A\n",
            " 28%|███████████▋                              | 30/108 [00:02<00:05, 15.02it/s]\u001b[A\n",
            " 30%|████████████▍                             | 32/108 [00:02<00:05, 14.85it/s]\u001b[A\n",
            " 31%|█████████████▏                            | 34/108 [00:02<00:05, 14.74it/s]\u001b[A\n",
            " 33%|██████████████                            | 36/108 [00:02<00:04, 14.80it/s]\u001b[A\n",
            " 35%|██████████████▊                           | 38/108 [00:02<00:04, 14.93it/s]\u001b[A\n",
            " 37%|███████████████▌                          | 40/108 [00:02<00:04, 14.98it/s]\u001b[A\n",
            " 39%|████████████████▎                         | 42/108 [00:03<00:10,  6.04it/s]\u001b[A\n",
            " 41%|█████████████████                         | 44/108 [00:03<00:08,  7.40it/s]\u001b[A"
          ]
        },
        {
          "output_type": "stream",
          "name": "stdout",
          "text": [
            "Epoch: 2/12 Step: 150 Training Loss: 0.4744 Validation Loss: 0.4428\n"
          ]
        },
        {
          "output_type": "stream",
          "name": "stderr",
          "text": [
            "\n",
            " 43%|█████████████████▉                        | 46/108 [00:03<00:07,  8.68it/s]\u001b[A\n",
            " 44%|██████████████████▋                       | 48/108 [00:03<00:06,  9.85it/s]\u001b[A\n",
            " 46%|███████████████████▍                      | 50/108 [00:04<00:05, 10.89it/s]\u001b[A\n",
            " 48%|████████████████████▏                     | 52/108 [00:04<00:04, 11.82it/s]\u001b[A\n",
            " 50%|█████████████████████                     | 54/108 [00:04<00:04, 12.59it/s]\u001b[A\n",
            " 52%|█████████████████████▊                    | 56/108 [00:04<00:04, 12.93it/s]\u001b[A\n",
            " 54%|██████████████████████▌                   | 58/108 [00:04<00:03, 13.49it/s]\u001b[A\n",
            " 56%|███████████████████████▎                  | 60/108 [00:04<00:03, 13.96it/s]\u001b[A\n",
            " 57%|████████████████████████                  | 62/108 [00:04<00:03, 14.32it/s]\u001b[A\n",
            " 59%|████████████████████████▉                 | 64/108 [00:04<00:03, 14.63it/s]\u001b[A\n",
            " 61%|█████████████████████████▋                | 66/108 [00:05<00:02, 14.44it/s]\u001b[A\n",
            " 63%|██████████████████████████▍               | 68/108 [00:05<00:02, 14.21it/s]\u001b[A\n",
            " 65%|███████████████████████████▏              | 70/108 [00:05<00:02, 14.05it/s]\u001b[A\n",
            " 67%|████████████████████████████              | 72/108 [00:05<00:02, 13.97it/s]\u001b[A\n",
            " 69%|████████████████████████████▊             | 74/108 [00:05<00:02, 14.14it/s]\u001b[A\n",
            " 70%|█████████████████████████████▌            | 76/108 [00:05<00:02, 14.41it/s]\u001b[A\n",
            " 72%|██████████████████████████████▎           | 78/108 [00:05<00:02, 14.59it/s]\u001b[A\n",
            " 74%|███████████████████████████████           | 80/108 [00:06<00:01, 14.63it/s]\u001b[A\n",
            " 76%|███████████████████████████████▉          | 82/108 [00:06<00:01, 14.60it/s]\u001b[A\n",
            " 78%|████████████████████████████████▋         | 84/108 [00:06<00:01, 14.60it/s]\u001b[A\n",
            " 80%|█████████████████████████████████▍        | 86/108 [00:06<00:01, 14.65it/s]\u001b[A\n",
            " 81%|██████████████████████████████████▏       | 88/108 [00:06<00:01, 14.79it/s]\u001b[A\n",
            " 83%|███████████████████████████████████       | 90/108 [00:06<00:01, 14.85it/s]\u001b[A\n",
            " 85%|███████████████████████████████████▊      | 92/108 [00:07<00:02,  5.81it/s]\u001b[A\n",
            " 87%|████████████████████████████████████▌     | 94/108 [00:07<00:01,  7.11it/s]\u001b[A"
          ]
        },
        {
          "output_type": "stream",
          "name": "stdout",
          "text": [
            "Epoch: 2/12 Step: 200 Training Loss: 0.4897 Validation Loss: 0.4861\n"
          ]
        },
        {
          "output_type": "stream",
          "name": "stderr",
          "text": [
            "\n",
            " 89%|█████████████████████████████████████▎    | 96/108 [00:07<00:01,  8.43it/s]\u001b[A\n",
            " 91%|██████████████████████████████████████    | 98/108 [00:08<00:01,  9.70it/s]\u001b[A\n",
            " 93%|█████████████████████████████████████▉   | 100/108 [00:08<00:00, 10.80it/s]\u001b[A\n",
            " 94%|██████████████████████████████████████▋  | 102/108 [00:08<00:00, 11.78it/s]\u001b[A\n",
            " 96%|███████████████████████████████████████▍ | 104/108 [00:08<00:00, 12.68it/s]\u001b[A\n",
            " 98%|████████████████████████████████████████▏| 106/108 [00:08<00:00, 13.36it/s]\u001b[A\n",
            "100%|█████████████████████████████████████████| 108/108 [00:08<00:00, 12.44it/s]\n",
            " 17%|███████▎                                    | 2/12 [00:17<01:27,  8.75s/it]\n",
            "  0%|                                                   | 0/108 [00:00<?, ?it/s]\u001b[A\n",
            "  2%|▊                                          | 2/108 [00:00<00:06, 15.37it/s]\u001b[A\n",
            "  4%|█▌                                         | 4/108 [00:00<00:06, 15.28it/s]\u001b[A\n",
            "  6%|██▍                                        | 6/108 [00:00<00:06, 15.08it/s]\u001b[A\n",
            "  7%|███▏                                       | 8/108 [00:00<00:06, 14.89it/s]\u001b[A\n",
            "  9%|███▉                                      | 10/108 [00:00<00:06, 14.99it/s]\u001b[A\n",
            " 11%|████▋                                     | 12/108 [00:00<00:06, 15.06it/s]\u001b[A\n",
            " 13%|█████▍                                    | 14/108 [00:00<00:06, 14.81it/s]\u001b[A\n",
            " 15%|██████▏                                   | 16/108 [00:01<00:06, 14.61it/s]\u001b[A\n",
            " 17%|███████                                   | 18/108 [00:01<00:06, 14.53it/s]\u001b[A\n",
            " 19%|███████▊                                  | 20/108 [00:01<00:06, 14.40it/s]\u001b[A\n",
            " 20%|████████▌                                 | 22/108 [00:01<00:06, 14.27it/s]\u001b[A\n",
            " 22%|█████████▎                                | 24/108 [00:01<00:05, 14.36it/s]\u001b[A\n",
            " 24%|██████████                                | 26/108 [00:01<00:05, 14.48it/s]\u001b[A\n",
            " 26%|██████████▉                               | 28/108 [00:01<00:05, 14.70it/s]\u001b[A\n",
            " 28%|███████████▋                              | 30/108 [00:02<00:05, 14.85it/s]\u001b[A\n",
            " 30%|████████████▍                             | 32/108 [00:02<00:05, 14.97it/s]\u001b[A\n",
            " 31%|█████████████▏                            | 34/108 [00:02<00:12,  6.03it/s]\u001b[A\n",
            " 33%|██████████████                            | 36/108 [00:03<00:09,  7.29it/s]\u001b[A"
          ]
        },
        {
          "output_type": "stream",
          "name": "stdout",
          "text": [
            "Epoch: 3/12 Step: 250 Training Loss: 0.4404 Validation Loss: 0.3599\n"
          ]
        },
        {
          "output_type": "stream",
          "name": "stderr",
          "text": [
            "\n",
            " 35%|██████████████▊                           | 38/108 [00:03<00:08,  8.60it/s]\u001b[A\n",
            " 37%|███████████████▌                          | 40/108 [00:03<00:06,  9.84it/s]\u001b[A\n",
            " 39%|████████████████▎                         | 42/108 [00:03<00:06, 10.93it/s]\u001b[A\n",
            " 41%|█████████████████                         | 44/108 [00:03<00:05, 11.84it/s]\u001b[A\n",
            " 43%|█████████████████▉                        | 46/108 [00:03<00:04, 12.64it/s]\u001b[A\n",
            " 44%|██████████████████▋                       | 48/108 [00:03<00:04, 13.32it/s]\u001b[A\n",
            " 46%|███████████████████▍                      | 50/108 [00:04<00:04, 13.44it/s]\u001b[A\n",
            " 48%|████████████████████▏                     | 52/108 [00:04<00:04, 13.73it/s]\u001b[A\n",
            " 50%|█████████████████████                     | 54/108 [00:04<00:03, 14.07it/s]\u001b[A\n",
            " 52%|█████████████████████▊                    | 56/108 [00:04<00:03, 14.37it/s]\u001b[A\n",
            " 54%|██████████████████████▌                   | 58/108 [00:04<00:03, 14.53it/s]\u001b[A\n",
            " 56%|███████████████████████▎                  | 60/108 [00:04<00:03, 14.73it/s]\u001b[A\n",
            " 57%|████████████████████████                  | 62/108 [00:04<00:03, 14.69it/s]\u001b[A\n",
            " 59%|████████████████████████▉                 | 64/108 [00:04<00:03, 14.63it/s]\u001b[A\n",
            " 61%|█████████████████████████▋                | 66/108 [00:05<00:02, 14.76it/s]\u001b[A\n",
            " 63%|██████████████████████████▍               | 68/108 [00:05<00:02, 14.69it/s]\u001b[A\n",
            " 65%|███████████████████████████▏              | 70/108 [00:05<00:02, 13.03it/s]\u001b[A\n",
            " 67%|████████████████████████████              | 72/108 [00:05<00:02, 13.47it/s]\u001b[A\n",
            " 69%|████████████████████████████▊             | 74/108 [00:05<00:02, 13.81it/s]\u001b[A\n",
            " 70%|█████████████████████████████▌            | 76/108 [00:05<00:02, 13.87it/s]\u001b[A\n",
            " 72%|██████████████████████████████▎           | 78/108 [00:06<00:02, 13.96it/s]\u001b[A\n",
            " 74%|███████████████████████████████           | 80/108 [00:06<00:01, 14.13it/s]\u001b[A\n",
            " 76%|███████████████████████████████▉          | 82/108 [00:06<00:01, 14.35it/s]\u001b[A\n",
            " 78%|████████████████████████████████▋         | 84/108 [00:07<00:03,  6.12it/s]\u001b[A\n",
            " 80%|█████████████████████████████████▍        | 86/108 [00:07<00:02,  7.41it/s]\u001b[A"
          ]
        },
        {
          "output_type": "stream",
          "name": "stdout",
          "text": [
            "Epoch: 3/12 Step: 300 Training Loss: 0.4536 Validation Loss: 0.4699\n"
          ]
        },
        {
          "output_type": "stream",
          "name": "stderr",
          "text": [
            "\n",
            " 81%|██████████████████████████████████▏       | 88/108 [00:07<00:02,  8.65it/s]\u001b[A\n",
            " 83%|███████████████████████████████████       | 90/108 [00:07<00:01,  9.91it/s]\u001b[A\n",
            " 85%|███████████████████████████████████▊      | 92/108 [00:07<00:01, 10.96it/s]\u001b[A\n",
            " 87%|████████████████████████████████████▌     | 94/108 [00:07<00:01, 11.84it/s]\u001b[A\n",
            " 89%|█████████████████████████████████████▎    | 96/108 [00:07<00:00, 12.50it/s]\u001b[A\n",
            " 91%|██████████████████████████████████████    | 98/108 [00:08<00:00, 12.92it/s]\u001b[A\n",
            " 93%|█████████████████████████████████████▉   | 100/108 [00:08<00:00, 13.19it/s]\u001b[A\n",
            " 94%|██████████████████████████████████████▋  | 102/108 [00:08<00:00, 13.46it/s]\u001b[A\n",
            " 96%|███████████████████████████████████████▍ | 104/108 [00:08<00:00, 13.73it/s]\u001b[A\n",
            " 98%|████████████████████████████████████████▏| 106/108 [00:08<00:00, 13.77it/s]\u001b[A\n",
            "100%|█████████████████████████████████████████| 108/108 [00:08<00:00, 12.37it/s]\n",
            " 25%|███████████                                 | 3/12 [00:26<01:18,  8.74s/it]\n",
            "  0%|                                                   | 0/108 [00:00<?, ?it/s]\u001b[A\n",
            "  2%|▊                                          | 2/108 [00:00<00:07, 14.83it/s]\u001b[A\n",
            "  4%|█▌                                         | 4/108 [00:00<00:07, 14.83it/s]\u001b[A\n",
            "  6%|██▍                                        | 6/108 [00:00<00:06, 14.96it/s]\u001b[A\n",
            "  7%|███▏                                       | 8/108 [00:00<00:06, 14.94it/s]\u001b[A\n",
            "  9%|███▉                                      | 10/108 [00:00<00:06, 14.84it/s]\u001b[A\n",
            " 11%|████▋                                     | 12/108 [00:00<00:06, 14.83it/s]\u001b[A\n",
            " 13%|█████▍                                    | 14/108 [00:00<00:06, 14.81it/s]\u001b[A\n",
            " 15%|██████▏                                   | 16/108 [00:01<00:06, 14.85it/s]\u001b[A\n",
            " 17%|███████                                   | 18/108 [00:01<00:06, 14.85it/s]\u001b[A\n",
            " 19%|███████▊                                  | 20/108 [00:01<00:06, 14.66it/s]\u001b[A\n",
            " 20%|████████▌                                 | 22/108 [00:01<00:05, 14.43it/s]\u001b[A\n",
            " 22%|█████████▎                                | 24/108 [00:01<00:05, 14.34it/s]\u001b[A\n",
            " 24%|██████████                                | 26/108 [00:02<00:13,  5.93it/s]\u001b[A\n",
            " 26%|██████████▉                               | 28/108 [00:02<00:11,  7.24it/s]\u001b[A"
          ]
        },
        {
          "output_type": "stream",
          "name": "stdout",
          "text": [
            "Epoch: 4/12 Step: 350 Training Loss: 0.3411 Validation Loss: 0.3167\n"
          ]
        },
        {
          "output_type": "stream",
          "name": "stderr",
          "text": [
            "\n",
            " 28%|███████████▋                              | 30/108 [00:02<00:09,  8.61it/s]\u001b[A\n",
            " 30%|████████████▍                             | 32/108 [00:02<00:07,  9.84it/s]\u001b[A\n",
            " 31%|█████████████▏                            | 34/108 [00:02<00:07, 10.54it/s]\u001b[A\n",
            " 33%|██████████████                            | 36/108 [00:03<00:06, 11.33it/s]\u001b[A\n",
            " 35%|██████████████▊                           | 38/108 [00:03<00:05, 11.87it/s]\u001b[A\n",
            " 37%|███████████████▌                          | 40/108 [00:03<00:05, 12.63it/s]\u001b[A\n",
            " 39%|████████████████▎                         | 42/108 [00:03<00:05, 13.19it/s]\u001b[A\n",
            " 41%|█████████████████                         | 44/108 [00:03<00:04, 13.62it/s]\u001b[A\n",
            " 43%|█████████████████▉                        | 46/108 [00:03<00:04, 13.98it/s]\u001b[A\n",
            " 44%|██████████████████▋                       | 48/108 [00:03<00:04, 14.17it/s]\u001b[A\n",
            " 46%|███████████████████▍                      | 50/108 [00:04<00:04, 14.43it/s]\u001b[A\n",
            " 48%|████████████████████▏                     | 52/108 [00:04<00:03, 14.52it/s]\u001b[A\n",
            " 50%|█████████████████████                     | 54/108 [00:04<00:03, 14.55it/s]\u001b[A\n",
            " 52%|█████████████████████▊                    | 56/108 [00:04<00:03, 14.61it/s]\u001b[A\n",
            " 54%|██████████████████████▌                   | 58/108 [00:04<00:03, 14.60it/s]\u001b[A\n",
            " 56%|███████████████████████▎                  | 60/108 [00:04<00:03, 14.62it/s]\u001b[A\n",
            " 57%|████████████████████████                  | 62/108 [00:04<00:03, 14.64it/s]\u001b[A\n",
            " 59%|████████████████████████▉                 | 64/108 [00:05<00:02, 14.71it/s]\u001b[A\n",
            " 61%|█████████████████████████▋                | 66/108 [00:05<00:02, 14.47it/s]\u001b[A\n",
            " 63%|██████████████████████████▍               | 68/108 [00:05<00:02, 14.50it/s]\u001b[A\n",
            " 65%|███████████████████████████▏              | 70/108 [00:05<00:02, 14.59it/s]\u001b[A\n",
            " 67%|████████████████████████████              | 72/108 [00:05<00:02, 12.83it/s]\u001b[A\n",
            " 69%|████████████████████████████▊             | 74/108 [00:05<00:02, 13.24it/s]\u001b[A\n",
            " 70%|█████████████████████████████▌            | 76/108 [00:06<00:05,  5.79it/s]\u001b[A\n",
            " 72%|██████████████████████████████▎           | 78/108 [00:06<00:04,  7.10it/s]\u001b[A"
          ]
        },
        {
          "output_type": "stream",
          "name": "stdout",
          "text": [
            "Epoch: 4/12 Step: 400 Training Loss: 0.6976 Validation Loss: 0.6656\n"
          ]
        },
        {
          "output_type": "stream",
          "name": "stderr",
          "text": [
            "\n",
            " 74%|███████████████████████████████           | 80/108 [00:06<00:03,  8.46it/s]\u001b[A\n",
            " 76%|███████████████████████████████▉          | 82/108 [00:06<00:02,  9.79it/s]\u001b[A\n",
            " 78%|████████████████████████████████▋         | 84/108 [00:07<00:02, 10.96it/s]\u001b[A\n",
            " 80%|█████████████████████████████████▍        | 86/108 [00:07<00:01, 11.84it/s]\u001b[A\n",
            " 81%|██████████████████████████████████▏       | 88/108 [00:07<00:01, 12.43it/s]\u001b[A\n",
            " 83%|███████████████████████████████████       | 90/108 [00:07<00:01, 12.95it/s]\u001b[A\n",
            " 85%|███████████████████████████████████▊      | 92/108 [00:07<00:01, 13.49it/s]\u001b[A\n",
            " 87%|████████████████████████████████████▌     | 94/108 [00:07<00:01, 13.99it/s]\u001b[A\n",
            " 89%|█████████████████████████████████████▎    | 96/108 [00:07<00:00, 14.35it/s]\u001b[A\n",
            " 91%|██████████████████████████████████████    | 98/108 [00:08<00:00, 14.37it/s]\u001b[A\n",
            " 93%|█████████████████████████████████████▉   | 100/108 [00:08<00:00, 14.34it/s]\u001b[A\n",
            " 94%|██████████████████████████████████████▋  | 102/108 [00:08<00:00, 14.44it/s]\u001b[A\n",
            " 96%|███████████████████████████████████████▍ | 104/108 [00:08<00:00, 14.64it/s]\u001b[A\n",
            " 98%|████████████████████████████████████████▏| 106/108 [00:08<00:00, 14.77it/s]\u001b[A\n",
            "100%|█████████████████████████████████████████| 108/108 [00:08<00:00, 12.33it/s]\n",
            " 33%|██████████████▋                             | 4/12 [00:35<01:09,  8.75s/it]\n",
            "  0%|                                                   | 0/108 [00:00<?, ?it/s]\u001b[A\n",
            "  2%|▊                                          | 2/108 [00:00<00:07, 14.04it/s]\u001b[A\n",
            "  4%|█▌                                         | 4/108 [00:00<00:07, 14.41it/s]\u001b[A\n",
            "  6%|██▍                                        | 6/108 [00:00<00:06, 14.63it/s]\u001b[A\n",
            "  7%|███▏                                       | 8/108 [00:00<00:06, 14.76it/s]\u001b[A\n",
            "  9%|███▉                                      | 10/108 [00:00<00:06, 14.81it/s]\u001b[A\n",
            " 11%|████▋                                     | 12/108 [00:00<00:06, 14.83it/s]\u001b[A\n",
            " 13%|█████▍                                    | 14/108 [00:00<00:06, 14.81it/s]\u001b[A\n",
            " 15%|██████▏                                   | 16/108 [00:01<00:06, 14.73it/s]\u001b[A\n",
            " 17%|███████                                   | 18/108 [00:01<00:15,  5.94it/s]\u001b[A\n",
            " 19%|███████▊                                  | 20/108 [00:02<00:12,  7.27it/s]\u001b[A"
          ]
        },
        {
          "output_type": "stream",
          "name": "stdout",
          "text": [
            "Epoch: 5/12 Step: 450 Training Loss: 0.3672 Validation Loss: 0.3503\n"
          ]
        },
        {
          "output_type": "stream",
          "name": "stderr",
          "text": [
            "\n",
            " 20%|████████▌                                 | 22/108 [00:02<00:09,  8.62it/s]\u001b[A\n",
            " 22%|█████████▎                                | 24/108 [00:02<00:08,  9.89it/s]\u001b[A\n",
            " 24%|██████████                                | 26/108 [00:02<00:07, 11.07it/s]\u001b[A\n",
            " 26%|██████████▉                               | 28/108 [00:02<00:06, 12.09it/s]\u001b[A\n",
            " 28%|███████████▋                              | 30/108 [00:02<00:06, 12.92it/s]\u001b[A\n",
            " 30%|████████████▍                             | 32/108 [00:02<00:05, 13.08it/s]\u001b[A\n",
            " 31%|█████████████▏                            | 34/108 [00:02<00:05, 13.66it/s]\u001b[A\n",
            " 33%|██████████████                            | 36/108 [00:03<00:05, 14.13it/s]\u001b[A\n",
            " 35%|██████████████▊                           | 38/108 [00:03<00:04, 14.48it/s]\u001b[A\n",
            " 37%|███████████████▌                          | 40/108 [00:03<00:04, 14.75it/s]\u001b[A\n",
            " 39%|████████████████▎                         | 42/108 [00:03<00:04, 14.88it/s]\u001b[A\n",
            " 41%|█████████████████                         | 44/108 [00:03<00:04, 14.97it/s]\u001b[A\n",
            " 43%|█████████████████▉                        | 46/108 [00:03<00:04, 13.31it/s]\u001b[A\n",
            " 44%|██████████████████▋                       | 48/108 [00:03<00:04, 13.80it/s]\u001b[A\n",
            " 46%|███████████████████▍                      | 50/108 [00:04<00:04, 14.15it/s]\u001b[A\n",
            " 48%|████████████████████▏                     | 52/108 [00:04<00:03, 14.39it/s]\u001b[A\n",
            " 50%|█████████████████████                     | 54/108 [00:04<00:03, 14.63it/s]\u001b[A\n",
            " 52%|█████████████████████▊                    | 56/108 [00:04<00:03, 14.81it/s]\u001b[A\n",
            " 54%|██████████████████████▌                   | 58/108 [00:04<00:03, 14.89it/s]\u001b[A\n",
            " 56%|███████████████████████▎                  | 60/108 [00:04<00:03, 14.94it/s]\u001b[A\n",
            " 57%|████████████████████████                  | 62/108 [00:04<00:03, 14.93it/s]\u001b[A\n",
            " 59%|████████████████████████▉                 | 64/108 [00:04<00:02, 15.00it/s]\u001b[A\n",
            " 61%|█████████████████████████▋                | 66/108 [00:05<00:02, 14.93it/s]\u001b[A\n",
            " 63%|██████████████████████████▍               | 68/108 [00:05<00:06,  6.19it/s]\u001b[A\n",
            " 65%|███████████████████████████▏              | 70/108 [00:06<00:05,  7.52it/s]\u001b[A"
          ]
        },
        {
          "output_type": "stream",
          "name": "stdout",
          "text": [
            "Epoch: 5/12 Step: 500 Training Loss: 0.5322 Validation Loss: 0.5205\n"
          ]
        },
        {
          "output_type": "stream",
          "name": "stderr",
          "text": [
            "\n",
            " 67%|████████████████████████████              | 72/108 [00:06<00:04,  8.81it/s]\u001b[A\n",
            " 69%|████████████████████████████▊             | 74/108 [00:06<00:03, 10.05it/s]\u001b[A\n",
            " 70%|█████████████████████████████▌            | 76/108 [00:06<00:02, 11.21it/s]\u001b[A\n",
            " 72%|██████████████████████████████▎           | 78/108 [00:06<00:02, 12.18it/s]\u001b[A\n",
            " 74%|███████████████████████████████           | 80/108 [00:06<00:02, 12.92it/s]\u001b[A\n",
            " 76%|███████████████████████████████▉          | 82/108 [00:06<00:01, 13.49it/s]\u001b[A\n",
            " 78%|████████████████████████████████▋         | 84/108 [00:06<00:01, 13.91it/s]\u001b[A\n",
            " 80%|█████████████████████████████████▍        | 86/108 [00:07<00:01, 14.20it/s]\u001b[A\n",
            " 81%|██████████████████████████████████▏       | 88/108 [00:07<00:01, 14.50it/s]\u001b[A\n",
            " 83%|███████████████████████████████████       | 90/108 [00:07<00:01, 14.70it/s]\u001b[A\n",
            " 85%|███████████████████████████████████▊      | 92/108 [00:07<00:01, 14.89it/s]\u001b[A\n",
            " 87%|████████████████████████████████████▌     | 94/108 [00:07<00:00, 14.94it/s]\u001b[A\n",
            " 89%|█████████████████████████████████████▎    | 96/108 [00:07<00:00, 13.44it/s]\u001b[A\n",
            " 91%|██████████████████████████████████████    | 98/108 [00:07<00:00, 13.72it/s]\u001b[A\n",
            " 93%|█████████████████████████████████████▉   | 100/108 [00:08<00:00, 14.04it/s]\u001b[A\n",
            " 94%|██████████████████████████████████████▋  | 102/108 [00:08<00:00, 14.33it/s]\u001b[A\n",
            " 96%|███████████████████████████████████████▍ | 104/108 [00:08<00:00, 14.25it/s]\u001b[A\n",
            " 98%|████████████████████████████████████████▏| 106/108 [00:08<00:00, 14.45it/s]\u001b[A\n",
            "100%|█████████████████████████████████████████| 108/108 [00:08<00:00, 12.56it/s]\n",
            " 42%|██████████████████▎                         | 5/12 [00:43<01:00,  8.70s/it]\n",
            "  0%|                                                   | 0/108 [00:00<?, ?it/s]\u001b[A\n",
            "  2%|▊                                          | 2/108 [00:00<00:07, 15.05it/s]\u001b[A\n",
            "  4%|█▌                                         | 4/108 [00:00<00:06, 15.10it/s]\u001b[A\n",
            "  6%|██▍                                        | 6/108 [00:00<00:06, 14.88it/s]\u001b[A\n",
            "  7%|███▏                                       | 8/108 [00:00<00:07, 14.28it/s]\u001b[A\n",
            "  9%|███▉                                      | 10/108 [00:01<00:18,  5.27it/s]\u001b[A\n",
            " 11%|████▋                                     | 12/108 [00:01<00:14,  6.76it/s]\u001b[A"
          ]
        },
        {
          "output_type": "stream",
          "name": "stdout",
          "text": [
            "Epoch: 6/12 Step: 550 Training Loss: 0.2583 Validation Loss: 0.1950\n"
          ]
        },
        {
          "output_type": "stream",
          "name": "stderr",
          "text": [
            "\n",
            " 13%|█████▍                                    | 14/108 [00:01<00:11,  8.21it/s]\u001b[A\n",
            " 15%|██████▏                                   | 16/108 [00:01<00:10,  9.07it/s]\u001b[A\n",
            " 17%|███████                                   | 18/108 [00:01<00:08, 10.30it/s]\u001b[A\n",
            " 19%|███████▊                                  | 20/108 [00:02<00:07, 11.39it/s]\u001b[A\n",
            " 20%|████████▌                                 | 22/108 [00:02<00:06, 12.31it/s]\u001b[A\n",
            " 22%|█████████▎                                | 24/108 [00:02<00:06, 13.13it/s]\u001b[A\n",
            " 24%|██████████                                | 26/108 [00:02<00:05, 13.76it/s]\u001b[A\n",
            " 26%|██████████▉                               | 28/108 [00:02<00:05, 14.19it/s]\u001b[A\n",
            " 28%|███████████▋                              | 30/108 [00:02<00:05, 14.52it/s]\u001b[A\n",
            " 30%|████████████▍                             | 32/108 [00:02<00:05, 14.58it/s]\u001b[A\n",
            " 31%|█████████████▏                            | 34/108 [00:03<00:05, 14.26it/s]\u001b[A\n",
            " 33%|██████████████                            | 36/108 [00:03<00:05, 14.09it/s]\u001b[A\n",
            " 35%|██████████████▊                           | 38/108 [00:03<00:04, 14.24it/s]\u001b[A\n",
            " 37%|███████████████▌                          | 40/108 [00:03<00:04, 14.50it/s]\u001b[A\n",
            " 39%|████████████████▎                         | 42/108 [00:03<00:04, 14.68it/s]\u001b[A\n",
            " 41%|█████████████████                         | 44/108 [00:03<00:04, 14.88it/s]\u001b[A\n",
            " 43%|█████████████████▉                        | 46/108 [00:03<00:04, 15.05it/s]\u001b[A\n",
            " 44%|██████████████████▋                       | 48/108 [00:03<00:03, 15.08it/s]\u001b[A\n",
            " 46%|███████████████████▍                      | 50/108 [00:04<00:03, 15.10it/s]\u001b[A\n",
            " 48%|████████████████████▏                     | 52/108 [00:04<00:03, 15.10it/s]\u001b[A\n",
            " 50%|█████████████████████                     | 54/108 [00:04<00:03, 15.15it/s]\u001b[A\n",
            " 52%|█████████████████████▊                    | 56/108 [00:04<00:03, 15.14it/s]\u001b[A\n",
            " 54%|██████████████████████▌                   | 58/108 [00:04<00:03, 15.16it/s]\u001b[A\n",
            " 56%|███████████████████████▎                  | 60/108 [00:05<00:07,  6.21it/s]\u001b[A\n",
            " 57%|████████████████████████                  | 62/108 [00:05<00:06,  7.52it/s]\u001b[A"
          ]
        },
        {
          "output_type": "stream",
          "name": "stdout",
          "text": [
            "Epoch: 6/12 Step: 600 Training Loss: 0.2022 Validation Loss: 0.1488\n"
          ]
        },
        {
          "output_type": "stream",
          "name": "stderr",
          "text": [
            "\n",
            " 59%|████████████████████████▉                 | 64/108 [00:05<00:04,  8.83it/s]\u001b[A\n",
            " 61%|█████████████████████████▋                | 66/108 [00:05<00:04, 10.08it/s]\u001b[A\n",
            " 63%|██████████████████████████▍               | 68/108 [00:05<00:03, 11.19it/s]\u001b[A\n",
            " 65%|███████████████████████████▏              | 70/108 [00:06<00:03, 12.15it/s]\u001b[A\n",
            " 67%|████████████████████████████              | 72/108 [00:06<00:02, 12.88it/s]\u001b[A\n",
            " 69%|████████████████████████████▊             | 74/108 [00:06<00:02, 13.45it/s]\u001b[A\n",
            " 70%|█████████████████████████████▌            | 76/108 [00:06<00:02, 13.86it/s]\u001b[A\n",
            " 72%|██████████████████████████████▎           | 78/108 [00:06<00:02, 14.23it/s]\u001b[A\n",
            " 74%|███████████████████████████████           | 80/108 [00:06<00:01, 14.52it/s]\u001b[A\n",
            " 76%|███████████████████████████████▉          | 82/108 [00:06<00:01, 14.68it/s]\u001b[A\n",
            " 78%|████████████████████████████████▋         | 84/108 [00:06<00:01, 14.83it/s]\u001b[A\n",
            " 80%|█████████████████████████████████▍        | 86/108 [00:07<00:01, 14.93it/s]\u001b[A\n",
            " 81%|██████████████████████████████████▏       | 88/108 [00:07<00:01, 14.94it/s]\u001b[A\n",
            " 83%|███████████████████████████████████       | 90/108 [00:07<00:01, 15.00it/s]\u001b[A\n",
            " 85%|███████████████████████████████████▊      | 92/108 [00:07<00:01, 14.41it/s]\u001b[A\n",
            " 87%|████████████████████████████████████▌     | 94/108 [00:07<00:01, 13.74it/s]\u001b[A\n",
            " 89%|█████████████████████████████████████▎    | 96/108 [00:07<00:00, 13.95it/s]\u001b[A\n",
            " 91%|██████████████████████████████████████    | 98/108 [00:07<00:00, 14.20it/s]\u001b[A\n",
            " 93%|█████████████████████████████████████▉   | 100/108 [00:08<00:00, 14.44it/s]\u001b[A\n",
            " 94%|██████████████████████████████████████▋  | 102/108 [00:08<00:00, 14.60it/s]\u001b[A\n",
            " 96%|███████████████████████████████████████▍ | 104/108 [00:08<00:00, 14.69it/s]\u001b[A\n",
            " 98%|████████████████████████████████████████▏| 106/108 [00:08<00:00, 14.75it/s]\u001b[A\n",
            "100%|█████████████████████████████████████████| 108/108 [00:08<00:00, 12.53it/s]\n",
            " 50%|██████████████████████                      | 6/12 [00:52<00:52,  8.67s/it]\n",
            "  0%|                                                   | 0/108 [00:00<?, ?it/s]\u001b[A\n",
            "  2%|▊                                          | 2/108 [00:00<00:42,  2.48it/s]\u001b[A\n",
            "  4%|█▌                                         | 4/108 [00:00<00:21,  4.87it/s]\u001b[A"
          ]
        },
        {
          "output_type": "stream",
          "name": "stdout",
          "text": [
            "Epoch: 7/12 Step: 650 Training Loss: 0.2310 Validation Loss: 0.1815\n"
          ]
        },
        {
          "output_type": "stream",
          "name": "stderr",
          "text": [
            "\n",
            "  6%|██▍                                        | 6/108 [00:01<00:14,  7.03it/s]\u001b[A\n",
            "  7%|███▏                                       | 8/108 [00:01<00:11,  8.92it/s]\u001b[A\n",
            "  9%|███▉                                      | 10/108 [00:01<00:09, 10.51it/s]\u001b[A\n",
            " 11%|████▋                                     | 12/108 [00:01<00:09, 10.49it/s]\u001b[A\n",
            " 13%|█████▍                                    | 14/108 [00:01<00:08, 11.60it/s]\u001b[A\n",
            " 15%|██████▏                                   | 16/108 [00:01<00:07, 12.50it/s]\u001b[A\n",
            " 17%|███████                                   | 18/108 [00:01<00:06, 13.27it/s]\u001b[A\n",
            " 19%|███████▊                                  | 20/108 [00:02<00:06, 13.83it/s]\u001b[A\n",
            " 20%|████████▌                                 | 22/108 [00:02<00:06, 14.26it/s]\u001b[A\n",
            " 22%|█████████▎                                | 24/108 [00:02<00:05, 14.53it/s]\u001b[A\n",
            " 24%|██████████                                | 26/108 [00:02<00:05, 14.69it/s]\u001b[A\n",
            " 26%|██████████▉                               | 28/108 [00:02<00:05, 14.85it/s]\u001b[A\n",
            " 28%|███████████▋                              | 30/108 [00:02<00:05, 14.96it/s]\u001b[A\n",
            " 30%|████████████▍                             | 32/108 [00:02<00:05, 15.07it/s]\u001b[A\n",
            " 31%|█████████████▏                            | 34/108 [00:02<00:04, 14.95it/s]\u001b[A\n",
            " 33%|██████████████                            | 36/108 [00:03<00:04, 14.91it/s]\u001b[A\n",
            " 35%|██████████████▊                           | 38/108 [00:03<00:04, 14.95it/s]\u001b[A\n",
            " 37%|███████████████▌                          | 40/108 [00:03<00:04, 14.93it/s]\u001b[A\n",
            " 39%|████████████████▎                         | 42/108 [00:03<00:04, 14.95it/s]\u001b[A\n",
            " 41%|█████████████████                         | 44/108 [00:03<00:04, 14.96it/s]\u001b[A\n",
            " 43%|█████████████████▉                        | 46/108 [00:03<00:04, 15.02it/s]\u001b[A\n",
            " 44%|██████████████████▋                       | 48/108 [00:03<00:04, 14.96it/s]\u001b[A\n",
            " 46%|███████████████████▍                      | 50/108 [00:04<00:03, 14.99it/s]\u001b[A\n",
            " 48%|████████████████████▏                     | 52/108 [00:04<00:09,  6.20it/s]\u001b[A\n",
            " 50%|█████████████████████                     | 54/108 [00:04<00:07,  7.54it/s]\u001b[A"
          ]
        },
        {
          "output_type": "stream",
          "name": "stdout",
          "text": [
            "Epoch: 7/12 Step: 700 Training Loss: 0.2690 Validation Loss: 0.2160\n"
          ]
        },
        {
          "output_type": "stream",
          "name": "stderr",
          "text": [
            "\n",
            " 52%|█████████████████████▊                    | 56/108 [00:05<00:05,  8.83it/s]\u001b[A\n",
            " 54%|██████████████████████▌                   | 58/108 [00:05<00:04, 10.12it/s]\u001b[A\n",
            " 56%|███████████████████████▎                  | 60/108 [00:05<00:04, 11.28it/s]\u001b[A\n",
            " 57%|████████████████████████                  | 62/108 [00:05<00:03, 12.22it/s]\u001b[A\n",
            " 59%|████████████████████████▉                 | 64/108 [00:05<00:03, 12.94it/s]\u001b[A\n",
            " 61%|█████████████████████████▋                | 66/108 [00:05<00:03, 13.55it/s]\u001b[A\n",
            " 63%|██████████████████████████▍               | 68/108 [00:05<00:02, 14.04it/s]\u001b[A\n",
            " 65%|███████████████████████████▏              | 70/108 [00:05<00:02, 14.39it/s]\u001b[A\n",
            " 67%|████████████████████████████              | 72/108 [00:06<00:02, 14.35it/s]\u001b[A\n",
            " 69%|████████████████████████████▊             | 74/108 [00:06<00:02, 14.59it/s]\u001b[A\n",
            " 70%|█████████████████████████████▌            | 76/108 [00:06<00:02, 14.78it/s]\u001b[A\n",
            " 72%|██████████████████████████████▎           | 78/108 [00:06<00:02, 14.94it/s]\u001b[A\n",
            " 74%|███████████████████████████████           | 80/108 [00:06<00:01, 15.09it/s]\u001b[A\n",
            " 76%|███████████████████████████████▉          | 82/108 [00:06<00:01, 15.21it/s]\u001b[A\n",
            " 78%|████████████████████████████████▋         | 84/108 [00:06<00:01, 14.77it/s]\u001b[A\n",
            " 80%|█████████████████████████████████▍        | 86/108 [00:07<00:01, 14.43it/s]\u001b[A\n",
            " 81%|██████████████████████████████████▏       | 88/108 [00:07<00:01, 13.37it/s]\u001b[A\n",
            " 83%|███████████████████████████████████       | 90/108 [00:07<00:01, 13.79it/s]\u001b[A\n",
            " 85%|███████████████████████████████████▊      | 92/108 [00:07<00:01, 14.18it/s]\u001b[A\n",
            " 87%|████████████████████████████████████▌     | 94/108 [00:07<00:00, 14.45it/s]\u001b[A\n",
            " 89%|█████████████████████████████████████▎    | 96/108 [00:07<00:00, 13.78it/s]\u001b[A\n",
            " 91%|██████████████████████████████████████    | 98/108 [00:07<00:00, 14.13it/s]\u001b[A\n",
            " 93%|█████████████████████████████████████▉   | 100/108 [00:08<00:00, 14.47it/s]\u001b[A\n",
            " 94%|██████████████████████████████████████▋  | 102/108 [00:08<00:00,  6.14it/s]\u001b[A\n",
            " 96%|███████████████████████████████████████▍ | 104/108 [00:08<00:00,  7.48it/s]\u001b[A"
          ]
        },
        {
          "output_type": "stream",
          "name": "stdout",
          "text": [
            "Epoch: 7/12 Step: 750 Training Loss: 0.3320 Validation Loss: 0.2906\n"
          ]
        },
        {
          "output_type": "stream",
          "name": "stderr",
          "text": [
            "\n",
            " 98%|████████████████████████████████████████▏| 106/108 [00:09<00:00,  8.85it/s]\u001b[A\n",
            "100%|█████████████████████████████████████████| 108/108 [00:09<00:00, 11.69it/s]\n",
            " 58%|█████████████████████████▋                  | 7/12 [01:01<00:44,  8.85s/it]\n",
            "  0%|                                                   | 0/108 [00:00<?, ?it/s]\u001b[A\n",
            "  2%|▊                                          | 2/108 [00:00<00:06, 15.58it/s]\u001b[A\n",
            "  4%|█▌                                         | 4/108 [00:00<00:06, 15.46it/s]\u001b[A\n",
            "  6%|██▍                                        | 6/108 [00:00<00:06, 15.57it/s]\u001b[A\n",
            "  7%|███▏                                       | 8/108 [00:00<00:06, 15.46it/s]\u001b[A\n",
            "  9%|███▉                                      | 10/108 [00:00<00:06, 15.40it/s]\u001b[A\n",
            " 11%|████▋                                     | 12/108 [00:00<00:06, 15.37it/s]\u001b[A\n",
            " 13%|█████▍                                    | 14/108 [00:00<00:06, 15.29it/s]\u001b[A\n",
            " 15%|██████▏                                   | 16/108 [00:01<00:06, 15.32it/s]\u001b[A\n",
            " 17%|███████                                   | 18/108 [00:01<00:05, 15.35it/s]\u001b[A\n",
            " 19%|███████▊                                  | 20/108 [00:01<00:05, 15.34it/s]\u001b[A\n",
            " 20%|████████▌                                 | 22/108 [00:01<00:05, 15.40it/s]\u001b[A\n",
            " 22%|█████████▎                                | 24/108 [00:01<00:05, 15.32it/s]\u001b[A\n",
            " 24%|██████████                                | 26/108 [00:01<00:05, 15.31it/s]\u001b[A\n",
            " 26%|██████████▉                               | 28/108 [00:01<00:05, 15.32it/s]\u001b[A\n",
            " 28%|███████████▋                              | 30/108 [00:01<00:05, 15.30it/s]\u001b[A\n",
            " 30%|████████████▍                             | 32/108 [00:02<00:04, 15.25it/s]\u001b[A\n",
            " 31%|█████████████▏                            | 34/108 [00:02<00:04, 15.16it/s]\u001b[A\n",
            " 33%|██████████████                            | 36/108 [00:02<00:05, 13.48it/s]\u001b[A\n",
            " 35%|██████████████▊                           | 38/108 [00:02<00:05, 13.80it/s]\u001b[A\n",
            " 37%|███████████████▌                          | 40/108 [00:02<00:04, 14.18it/s]\u001b[A\n",
            " 39%|████████████████▎                         | 42/108 [00:02<00:04, 14.47it/s]\u001b[A\n",
            " 41%|█████████████████                         | 44/108 [00:03<00:10,  6.12it/s]\u001b[A\n",
            " 43%|█████████████████▉                        | 46/108 [00:03<00:08,  7.41it/s]\u001b[A"
          ]
        },
        {
          "output_type": "stream",
          "name": "stdout",
          "text": [
            "Epoch: 8/12 Step: 800 Training Loss: 0.2786 Validation Loss: 0.2119\n"
          ]
        },
        {
          "output_type": "stream",
          "name": "stderr",
          "text": [
            "\n",
            " 44%|██████████████████▋                       | 48/108 [00:03<00:06,  8.69it/s]\u001b[A\n",
            " 46%|███████████████████▍                      | 50/108 [00:03<00:05,  9.94it/s]\u001b[A\n",
            " 48%|████████████████████▏                     | 52/108 [00:04<00:05, 11.08it/s]\u001b[A\n",
            " 50%|█████████████████████                     | 54/108 [00:04<00:04, 12.04it/s]\u001b[A\n",
            " 52%|█████████████████████▊                    | 56/108 [00:04<00:04, 12.78it/s]\u001b[A\n",
            " 54%|██████████████████████▌                   | 58/108 [00:04<00:03, 13.39it/s]\u001b[A\n",
            " 56%|███████████████████████▎                  | 60/108 [00:04<00:03, 13.82it/s]\u001b[A\n",
            " 57%|████████████████████████                  | 62/108 [00:04<00:03, 14.20it/s]\u001b[A\n",
            " 59%|████████████████████████▉                 | 64/108 [00:04<00:03, 14.49it/s]\u001b[A\n",
            " 61%|█████████████████████████▋                | 66/108 [00:05<00:02, 14.63it/s]\u001b[A\n",
            " 63%|██████████████████████████▍               | 68/108 [00:05<00:02, 14.75it/s]\u001b[A\n",
            " 65%|███████████████████████████▏              | 70/108 [00:05<00:02, 14.79it/s]\u001b[A\n",
            " 67%|████████████████████████████              | 72/108 [00:05<00:02, 14.85it/s]\u001b[A\n",
            " 69%|████████████████████████████▊             | 74/108 [00:05<00:02, 14.94it/s]\u001b[A\n",
            " 70%|█████████████████████████████▌            | 76/108 [00:05<00:02, 14.92it/s]\u001b[A\n",
            " 72%|██████████████████████████████▎           | 78/108 [00:05<00:02, 14.92it/s]\u001b[A\n",
            " 74%|███████████████████████████████           | 80/108 [00:05<00:01, 14.91it/s]\u001b[A\n",
            " 76%|███████████████████████████████▉          | 82/108 [00:06<00:01, 14.94it/s]\u001b[A\n",
            " 78%|████████████████████████████████▋         | 84/108 [00:06<00:01, 14.96it/s]\u001b[A\n",
            " 80%|█████████████████████████████████▍        | 86/108 [00:06<00:01, 14.91it/s]\u001b[A\n",
            " 81%|██████████████████████████████████▏       | 88/108 [00:06<00:01, 14.79it/s]\u001b[A\n",
            " 83%|███████████████████████████████████       | 90/108 [00:06<00:01, 14.76it/s]\u001b[A\n",
            " 85%|███████████████████████████████████▊      | 92/108 [00:06<00:01, 14.55it/s]\u001b[A\n",
            " 87%|████████████████████████████████████▌     | 94/108 [00:07<00:02,  6.12it/s]\u001b[A\n",
            " 89%|█████████████████████████████████████▎    | 96/108 [00:07<00:01,  7.34it/s]\u001b[A"
          ]
        },
        {
          "output_type": "stream",
          "name": "stdout",
          "text": [
            "Epoch: 8/12 Step: 850 Training Loss: 0.2148 Validation Loss: 0.1574\n"
          ]
        },
        {
          "output_type": "stream",
          "name": "stderr",
          "text": [
            "\n",
            " 91%|██████████████████████████████████████    | 98/108 [00:07<00:01,  8.55it/s]\u001b[A\n",
            " 93%|█████████████████████████████████████▉   | 100/108 [00:08<00:00,  9.61it/s]\u001b[A\n",
            " 94%|██████████████████████████████████████▋  | 102/108 [00:08<00:00, 10.77it/s]\u001b[A\n",
            " 96%|███████████████████████████████████████▍ | 104/108 [00:08<00:00, 11.80it/s]\u001b[A\n",
            " 98%|████████████████████████████████████████▏| 106/108 [00:08<00:00, 12.64it/s]\u001b[A\n",
            "100%|█████████████████████████████████████████| 108/108 [00:08<00:00, 12.66it/s]\n",
            " 67%|█████████████████████████████▎              | 8/12 [01:10<00:35,  8.75s/it]\n",
            "  0%|                                                   | 0/108 [00:00<?, ?it/s]\u001b[A\n",
            "  2%|▊                                          | 2/108 [00:00<00:07, 14.31it/s]\u001b[A\n",
            "  4%|█▌                                         | 4/108 [00:00<00:07, 13.99it/s]\u001b[A\n",
            "  6%|██▍                                        | 6/108 [00:00<00:07, 14.22it/s]\u001b[A\n",
            "  7%|███▏                                       | 8/108 [00:00<00:07, 14.14it/s]\u001b[A\n",
            "  9%|███▉                                      | 10/108 [00:00<00:07, 13.99it/s]\u001b[A\n",
            " 11%|████▋                                     | 12/108 [00:00<00:07, 13.60it/s]\u001b[A\n",
            " 13%|█████▍                                    | 14/108 [00:01<00:07, 13.40it/s]\u001b[A\n",
            " 15%|██████▏                                   | 16/108 [00:01<00:07, 12.98it/s]\u001b[A\n",
            " 17%|███████                                   | 18/108 [00:01<00:07, 12.12it/s]\u001b[A\n",
            " 19%|███████▊                                  | 20/108 [00:01<00:07, 12.44it/s]\u001b[A\n",
            " 20%|████████▌                                 | 22/108 [00:01<00:07, 12.04it/s]\u001b[A\n",
            " 22%|█████████▎                                | 24/108 [00:01<00:06, 12.63it/s]\u001b[A\n",
            " 24%|██████████                                | 26/108 [00:01<00:06, 12.89it/s]\u001b[A\n",
            " 26%|██████████▉                               | 28/108 [00:02<00:05, 13.40it/s]\u001b[A\n",
            " 28%|███████████▋                              | 30/108 [00:02<00:05, 13.83it/s]\u001b[A\n",
            " 30%|████████████▍                             | 32/108 [00:02<00:05, 14.23it/s]\u001b[A\n",
            " 31%|█████████████▏                            | 34/108 [00:02<00:05, 14.43it/s]\u001b[A\n",
            " 33%|██████████████                            | 36/108 [00:03<00:12,  5.78it/s]\u001b[A\n",
            " 35%|██████████████▊                           | 38/108 [00:03<00:10,  6.66it/s]\u001b[A"
          ]
        },
        {
          "output_type": "stream",
          "name": "stdout",
          "text": [
            "Epoch: 9/12 Step: 900 Training Loss: 0.2168 Validation Loss: 0.1615\n"
          ]
        },
        {
          "output_type": "stream",
          "name": "stderr",
          "text": [
            "\n",
            " 37%|███████████████▌                          | 40/108 [00:03<00:08,  7.98it/s]\u001b[A\n",
            " 39%|████████████████▎                         | 42/108 [00:03<00:07,  9.28it/s]\u001b[A\n",
            " 41%|█████████████████                         | 44/108 [00:03<00:06, 10.54it/s]\u001b[A\n",
            " 43%|█████████████████▉                        | 46/108 [00:04<00:05, 11.51it/s]\u001b[A\n",
            " 44%|██████████████████▋                       | 48/108 [00:04<00:04, 12.05it/s]\u001b[A\n",
            " 46%|███████████████████▍                      | 50/108 [00:04<00:04, 12.48it/s]\u001b[A\n",
            " 48%|████████████████████▏                     | 52/108 [00:04<00:04, 12.86it/s]\u001b[A\n",
            " 50%|█████████████████████                     | 54/108 [00:04<00:04, 13.37it/s]\u001b[A\n",
            " 52%|█████████████████████▊                    | 56/108 [00:04<00:03, 13.80it/s]\u001b[A\n",
            " 54%|██████████████████████▌                   | 58/108 [00:04<00:03, 14.12it/s]\u001b[A\n",
            " 56%|███████████████████████▎                  | 60/108 [00:05<00:03, 14.41it/s]\u001b[A\n",
            " 57%|████████████████████████                  | 62/108 [00:05<00:03, 14.65it/s]\u001b[A\n",
            " 59%|████████████████████████▉                 | 64/108 [00:05<00:03, 14.65it/s]\u001b[A\n",
            " 61%|█████████████████████████▋                | 66/108 [00:05<00:02, 14.84it/s]\u001b[A\n",
            " 63%|██████████████████████████▍               | 68/108 [00:05<00:02, 14.93it/s]\u001b[A\n",
            " 65%|███████████████████████████▏              | 70/108 [00:05<00:02, 15.05it/s]\u001b[A\n",
            " 67%|████████████████████████████              | 72/108 [00:05<00:02, 15.10it/s]\u001b[A\n",
            " 69%|████████████████████████████▊             | 74/108 [00:05<00:02, 15.10it/s]\u001b[A\n",
            " 70%|█████████████████████████████▌            | 76/108 [00:06<00:02, 15.07it/s]\u001b[A\n",
            " 72%|██████████████████████████████▎           | 78/108 [00:06<00:01, 15.10it/s]\u001b[A\n",
            " 74%|███████████████████████████████           | 80/108 [00:06<00:01, 15.00it/s]\u001b[A\n",
            " 76%|███████████████████████████████▉          | 82/108 [00:06<00:01, 14.96it/s]\u001b[A\n",
            " 78%|████████████████████████████████▋         | 84/108 [00:06<00:01, 14.96it/s]\u001b[A\n",
            " 80%|█████████████████████████████████▍        | 86/108 [00:07<00:03,  6.19it/s]\u001b[A\n",
            " 81%|██████████████████████████████████▏       | 88/108 [00:07<00:02,  7.52it/s]\u001b[A"
          ]
        },
        {
          "output_type": "stream",
          "name": "stdout",
          "text": [
            "Epoch: 9/12 Step: 950 Training Loss: 0.3120 Validation Loss: 0.2783\n"
          ]
        },
        {
          "output_type": "stream",
          "name": "stderr",
          "text": [
            "\n",
            " 83%|███████████████████████████████████       | 90/108 [00:07<00:02,  8.84it/s]\u001b[A\n",
            " 85%|███████████████████████████████████▊      | 92/108 [00:07<00:01, 10.09it/s]\u001b[A\n",
            " 87%|████████████████████████████████████▌     | 94/108 [00:07<00:01, 11.21it/s]\u001b[A\n",
            " 89%|█████████████████████████████████████▎    | 96/108 [00:08<00:00, 12.18it/s]\u001b[A\n",
            " 91%|██████████████████████████████████████    | 98/108 [00:08<00:00, 12.96it/s]\u001b[A\n",
            " 93%|█████████████████████████████████████▉   | 100/108 [00:08<00:00, 13.56it/s]\u001b[A\n",
            " 94%|██████████████████████████████████████▋  | 102/108 [00:08<00:00, 14.03it/s]\u001b[A\n",
            " 96%|███████████████████████████████████████▍ | 104/108 [00:08<00:00, 14.36it/s]\u001b[A\n",
            " 98%|████████████████████████████████████████▏| 106/108 [00:08<00:00, 14.60it/s]\u001b[A\n",
            "100%|█████████████████████████████████████████| 108/108 [00:08<00:00, 12.17it/s]\n",
            " 75%|█████████████████████████████████           | 9/12 [01:18<00:26,  8.79s/it]\n",
            "  0%|                                                   | 0/108 [00:00<?, ?it/s]\u001b[A\n",
            "  2%|▊                                          | 2/108 [00:00<00:06, 15.23it/s]\u001b[A\n",
            "  4%|█▌                                         | 4/108 [00:00<00:06, 15.18it/s]\u001b[A\n",
            "  6%|██▍                                        | 6/108 [00:00<00:06, 15.10it/s]\u001b[A\n",
            "  7%|███▏                                       | 8/108 [00:00<00:06, 15.16it/s]\u001b[A\n",
            "  9%|███▉                                      | 10/108 [00:00<00:06, 15.16it/s]\u001b[A\n",
            " 11%|████▋                                     | 12/108 [00:00<00:06, 15.12it/s]\u001b[A\n",
            " 13%|█████▍                                    | 14/108 [00:00<00:06, 15.07it/s]\u001b[A\n",
            " 15%|██████▏                                   | 16/108 [00:01<00:06, 15.03it/s]\u001b[A\n",
            " 17%|███████                                   | 18/108 [00:01<00:06, 14.95it/s]\u001b[A\n",
            " 19%|███████▊                                  | 20/108 [00:01<00:05, 14.95it/s]\u001b[A\n",
            " 20%|████████▌                                 | 22/108 [00:01<00:05, 14.96it/s]\u001b[A\n",
            " 22%|█████████▎                                | 24/108 [00:01<00:05, 15.00it/s]\u001b[A\n",
            " 24%|██████████                                | 26/108 [00:01<00:05, 15.01it/s]\u001b[A\n",
            " 26%|██████████▉                               | 28/108 [00:02<00:13,  6.15it/s]\u001b[A\n",
            " 28%|███████████▋                              | 30/108 [00:02<00:10,  7.46it/s]\u001b[A"
          ]
        },
        {
          "output_type": "stream",
          "name": "stdout",
          "text": [
            "Epoch: 10/12 Step: 1000 Training Loss: 0.1380 Validation Loss: 0.0908\n"
          ]
        },
        {
          "output_type": "stream",
          "name": "stderr",
          "text": [
            "\n",
            " 30%|████████████▍                             | 32/108 [00:02<00:08,  8.78it/s]\u001b[A\n",
            " 31%|█████████████▏                            | 34/108 [00:02<00:07, 10.04it/s]\u001b[A\n",
            " 33%|██████████████                            | 36/108 [00:03<00:06, 11.16it/s]\u001b[A\n",
            " 35%|██████████████▊                           | 38/108 [00:03<00:05, 12.09it/s]\u001b[A\n",
            " 37%|███████████████▌                          | 40/108 [00:03<00:05, 12.80it/s]\u001b[A\n",
            " 39%|████████████████▎                         | 42/108 [00:03<00:04, 13.35it/s]\u001b[A\n",
            " 41%|█████████████████                         | 44/108 [00:03<00:04, 13.84it/s]\u001b[A\n",
            " 43%|█████████████████▉                        | 46/108 [00:03<00:04, 14.10it/s]\u001b[A\n",
            " 44%|██████████████████▋                       | 48/108 [00:03<00:04, 14.36it/s]\u001b[A\n",
            " 46%|███████████████████▍                      | 50/108 [00:03<00:04, 14.45it/s]\u001b[A\n",
            " 48%|████████████████████▏                     | 52/108 [00:04<00:04, 12.90it/s]\u001b[A\n",
            " 50%|█████████████████████                     | 54/108 [00:04<00:04, 13.34it/s]\u001b[A\n",
            " 52%|█████████████████████▊                    | 56/108 [00:04<00:03, 13.85it/s]\u001b[A\n",
            " 54%|██████████████████████▌                   | 58/108 [00:04<00:03, 14.16it/s]\u001b[A\n",
            " 56%|███████████████████████▎                  | 60/108 [00:04<00:03, 14.38it/s]\u001b[A\n",
            " 57%|████████████████████████                  | 62/108 [00:04<00:03, 14.50it/s]\u001b[A\n",
            " 59%|████████████████████████▉                 | 64/108 [00:04<00:03, 14.60it/s]\u001b[A\n",
            " 61%|█████████████████████████▋                | 66/108 [00:05<00:02, 14.64it/s]\u001b[A\n",
            " 63%|██████████████████████████▍               | 68/108 [00:05<00:02, 14.71it/s]\u001b[A\n",
            " 65%|███████████████████████████▏              | 70/108 [00:05<00:02, 14.77it/s]\u001b[A\n",
            " 67%|████████████████████████████              | 72/108 [00:05<00:02, 14.72it/s]\u001b[A\n",
            " 69%|████████████████████████████▊             | 74/108 [00:05<00:02, 14.79it/s]\u001b[A\n",
            " 70%|█████████████████████████████▌            | 76/108 [00:05<00:02, 14.87it/s]\u001b[A\n",
            " 72%|██████████████████████████████▎           | 78/108 [00:06<00:04,  6.13it/s]\u001b[A\n",
            " 74%|███████████████████████████████           | 80/108 [00:06<00:03,  7.47it/s]\u001b[A"
          ]
        },
        {
          "output_type": "stream",
          "name": "stdout",
          "text": [
            "Epoch: 10/12 Step: 1050 Training Loss: 0.2950 Validation Loss: 0.2820\n"
          ]
        },
        {
          "output_type": "stream",
          "name": "stderr",
          "text": [
            "\n",
            " 76%|███████████████████████████████▉          | 82/108 [00:06<00:02,  8.78it/s]\u001b[A\n",
            " 78%|████████████████████████████████▋         | 84/108 [00:06<00:02, 10.05it/s]\u001b[A\n",
            " 80%|█████████████████████████████████▍        | 86/108 [00:07<00:01, 11.14it/s]\u001b[A\n",
            " 81%|██████████████████████████████████▏       | 88/108 [00:07<00:01, 12.10it/s]\u001b[A\n",
            " 83%|███████████████████████████████████       | 90/108 [00:07<00:01, 12.87it/s]\u001b[A\n",
            " 85%|███████████████████████████████████▊      | 92/108 [00:07<00:01, 13.40it/s]\u001b[A\n",
            " 87%|████████████████████████████████████▌     | 94/108 [00:07<00:01, 13.99it/s]\u001b[A\n",
            " 89%|█████████████████████████████████████▎    | 96/108 [00:07<00:00, 14.38it/s]\u001b[A\n",
            " 91%|██████████████████████████████████████    | 98/108 [00:07<00:00, 14.62it/s]\u001b[A\n",
            " 93%|█████████████████████████████████████▉   | 100/108 [00:08<00:00, 14.86it/s]\u001b[A\n",
            " 94%|██████████████████████████████████████▋  | 102/108 [00:08<00:00, 14.97it/s]\u001b[A\n",
            " 96%|███████████████████████████████████████▍ | 104/108 [00:08<00:00, 15.02it/s]\u001b[A\n",
            " 98%|████████████████████████████████████████▏| 106/108 [00:08<00:00, 15.04it/s]\u001b[A\n",
            "100%|█████████████████████████████████████████| 108/108 [00:08<00:00, 12.66it/s]\n",
            " 83%|███████████████████████████████████▊       | 10/12 [01:27<00:17,  8.71s/it]\n",
            "  0%|                                                   | 0/108 [00:00<?, ?it/s]\u001b[A\n",
            "  2%|▊                                          | 2/108 [00:00<00:06, 15.19it/s]\u001b[A\n",
            "  4%|█▌                                         | 4/108 [00:00<00:06, 15.22it/s]\u001b[A\n",
            "  6%|██▍                                        | 6/108 [00:00<00:06, 15.21it/s]\u001b[A\n",
            "  7%|███▏                                       | 8/108 [00:00<00:06, 15.13it/s]\u001b[A\n",
            "  9%|███▉                                      | 10/108 [00:00<00:06, 15.10it/s]\u001b[A\n",
            " 11%|████▋                                     | 12/108 [00:00<00:06, 15.03it/s]\u001b[A\n",
            " 13%|█████▍                                    | 14/108 [00:00<00:06, 14.66it/s]\u001b[A\n",
            " 15%|██████▏                                   | 16/108 [00:01<00:06, 14.77it/s]\u001b[A\n",
            " 17%|███████                                   | 18/108 [00:01<00:06, 14.85it/s]\u001b[A\n",
            " 19%|███████▊                                  | 20/108 [00:02<00:14,  5.88it/s]\u001b[A\n",
            " 20%|████████▌                                 | 22/108 [00:02<00:11,  7.18it/s]\u001b[A"
          ]
        },
        {
          "output_type": "stream",
          "name": "stdout",
          "text": [
            "Epoch: 11/12 Step: 1100 Training Loss: 0.0691 Validation Loss: 0.0202\n"
          ]
        },
        {
          "output_type": "stream",
          "name": "stderr",
          "text": [
            "\n",
            " 22%|█████████▎                                | 24/108 [00:02<00:09,  8.50it/s]\u001b[A\n",
            " 24%|██████████                                | 26/108 [00:02<00:08,  9.81it/s]\u001b[A\n",
            " 26%|██████████▉                               | 28/108 [00:02<00:07, 10.94it/s]\u001b[A\n",
            " 28%|███████████▋                              | 30/108 [00:02<00:06, 11.94it/s]\u001b[A\n",
            " 30%|████████████▍                             | 32/108 [00:02<00:05, 12.74it/s]\u001b[A\n",
            " 31%|█████████████▏                            | 34/108 [00:02<00:05, 13.31it/s]\u001b[A\n",
            " 33%|██████████████                            | 36/108 [00:03<00:05, 13.79it/s]\u001b[A\n",
            " 35%|██████████████▊                           | 38/108 [00:03<00:04, 14.16it/s]\u001b[A\n",
            " 37%|███████████████▌                          | 40/108 [00:03<00:04, 14.43it/s]\u001b[A\n",
            " 39%|████████████████▎                         | 42/108 [00:03<00:04, 14.57it/s]\u001b[A\n",
            " 41%|█████████████████                         | 44/108 [00:03<00:04, 14.70it/s]\u001b[A\n",
            " 43%|█████████████████▉                        | 46/108 [00:03<00:04, 14.87it/s]\u001b[A\n",
            " 44%|██████████████████▋                       | 48/108 [00:03<00:04, 14.86it/s]\u001b[A\n",
            " 46%|███████████████████▍                      | 50/108 [00:04<00:03, 14.91it/s]\u001b[A\n",
            " 48%|████████████████████▏                     | 52/108 [00:04<00:03, 14.97it/s]\u001b[A\n",
            " 50%|█████████████████████                     | 54/108 [00:04<00:03, 15.05it/s]\u001b[A\n",
            " 52%|█████████████████████▊                    | 56/108 [00:04<00:03, 13.31it/s]\u001b[A\n",
            " 54%|██████████████████████▌                   | 58/108 [00:04<00:03, 13.73it/s]\u001b[A\n",
            " 56%|███████████████████████▎                  | 60/108 [00:04<00:03, 14.04it/s]\u001b[A\n",
            " 57%|████████████████████████                  | 62/108 [00:04<00:03, 14.35it/s]\u001b[A\n",
            " 59%|████████████████████████▉                 | 64/108 [00:04<00:03, 14.57it/s]\u001b[A\n",
            " 61%|█████████████████████████▋                | 66/108 [00:05<00:02, 14.71it/s]\u001b[A\n",
            " 63%|██████████████████████████▍               | 68/108 [00:05<00:02, 14.85it/s]\u001b[A\n",
            " 65%|███████████████████████████▏              | 70/108 [00:06<00:06,  6.18it/s]\u001b[A\n",
            " 67%|████████████████████████████              | 72/108 [00:06<00:04,  7.51it/s]\u001b[A"
          ]
        },
        {
          "output_type": "stream",
          "name": "stdout",
          "text": [
            "Epoch: 11/12 Step: 1150 Training Loss: 0.1166 Validation Loss: 0.0767\n"
          ]
        },
        {
          "output_type": "stream",
          "name": "stderr",
          "text": [
            "\n",
            " 69%|████████████████████████████▊             | 74/108 [00:06<00:03,  8.79it/s]\u001b[A\n",
            " 70%|█████████████████████████████▌            | 76/108 [00:06<00:03, 10.07it/s]\u001b[A\n",
            " 72%|██████████████████████████████▎           | 78/108 [00:06<00:02, 11.18it/s]\u001b[A\n",
            " 74%|███████████████████████████████           | 80/108 [00:06<00:02, 12.06it/s]\u001b[A\n",
            " 76%|███████████████████████████████▉          | 82/108 [00:06<00:02, 12.82it/s]\u001b[A\n",
            " 78%|████████████████████████████████▋         | 84/108 [00:06<00:01, 13.40it/s]\u001b[A\n",
            " 80%|█████████████████████████████████▍        | 86/108 [00:07<00:01, 13.86it/s]\u001b[A\n",
            " 81%|██████████████████████████████████▏       | 88/108 [00:07<00:01, 14.17it/s]\u001b[A\n",
            " 83%|███████████████████████████████████       | 90/108 [00:07<00:01, 14.40it/s]\u001b[A\n",
            " 85%|███████████████████████████████████▊      | 92/108 [00:07<00:01, 14.53it/s]\u001b[A\n",
            " 87%|████████████████████████████████████▌     | 94/108 [00:07<00:00, 14.71it/s]\u001b[A\n",
            " 89%|█████████████████████████████████████▎    | 96/108 [00:07<00:00, 14.83it/s]\u001b[A\n",
            " 91%|██████████████████████████████████████    | 98/108 [00:07<00:00, 14.78it/s]\u001b[A\n",
            " 93%|█████████████████████████████████████▉   | 100/108 [00:08<00:00, 14.76it/s]\u001b[A\n",
            " 94%|██████████████████████████████████████▋  | 102/108 [00:08<00:00, 14.91it/s]\u001b[A\n",
            " 96%|███████████████████████████████████████▍ | 104/108 [00:08<00:00, 15.00it/s]\u001b[A\n",
            " 98%|████████████████████████████████████████▏| 106/108 [00:08<00:00, 15.04it/s]\u001b[A\n",
            "100%|█████████████████████████████████████████| 108/108 [00:08<00:00, 12.61it/s]\n",
            " 92%|███████████████████████████████████████▍   | 11/12 [01:35<00:08,  8.67s/it]\n",
            "  0%|                                                   | 0/108 [00:00<?, ?it/s]\u001b[A\n",
            "  2%|▊                                          | 2/108 [00:00<00:07, 14.88it/s]\u001b[A\n",
            "  4%|█▌                                         | 4/108 [00:00<00:06, 14.98it/s]\u001b[A\n",
            "  6%|██▍                                        | 6/108 [00:00<00:06, 15.01it/s]\u001b[A\n",
            "  7%|███▏                                       | 8/108 [00:00<00:06, 15.04it/s]\u001b[A\n",
            "  9%|███▉                                      | 10/108 [00:00<00:06, 15.05it/s]\u001b[A\n",
            " 11%|████▋                                     | 12/108 [00:01<00:16,  5.73it/s]\u001b[A\n",
            " 13%|█████▍                                    | 14/108 [00:01<00:13,  7.19it/s]\u001b[A"
          ]
        },
        {
          "output_type": "stream",
          "name": "stdout",
          "text": [
            "Epoch: 12/12 Step: 1200 Training Loss: 0.0153 Validation Loss: 0.0125\n"
          ]
        },
        {
          "output_type": "stream",
          "name": "stderr",
          "text": [
            "\n",
            " 15%|██████▏                                   | 16/108 [00:01<00:10,  8.61it/s]\u001b[A\n",
            " 17%|███████                                   | 18/108 [00:01<00:09,  9.90it/s]\u001b[A\n",
            " 19%|███████▊                                  | 20/108 [00:01<00:07, 11.07it/s]\u001b[A\n",
            " 20%|████████▌                                 | 22/108 [00:02<00:07, 11.94it/s]\u001b[A\n",
            " 22%|█████████▎                                | 24/108 [00:02<00:06, 12.74it/s]\u001b[A\n",
            " 24%|██████████                                | 26/108 [00:02<00:06, 13.32it/s]\u001b[A\n",
            " 26%|██████████▉                               | 28/108 [00:02<00:05, 13.83it/s]\u001b[A\n",
            " 28%|███████████▋                              | 30/108 [00:02<00:05, 14.16it/s]\u001b[A\n",
            " 30%|████████████▍                             | 32/108 [00:02<00:05, 14.39it/s]\u001b[A\n",
            " 31%|█████████████▏                            | 34/108 [00:02<00:05, 14.50it/s]\u001b[A\n",
            " 33%|██████████████                            | 36/108 [00:03<00:04, 14.72it/s]\u001b[A\n",
            " 35%|██████████████▊                           | 38/108 [00:03<00:04, 14.79it/s]\u001b[A\n",
            " 37%|███████████████▌                          | 40/108 [00:03<00:04, 14.87it/s]\u001b[A\n",
            " 39%|████████████████▎                         | 42/108 [00:03<00:04, 14.87it/s]\u001b[A\n",
            " 41%|█████████████████                         | 44/108 [00:03<00:04, 14.99it/s]\u001b[A\n",
            " 43%|█████████████████▉                        | 46/108 [00:03<00:04, 14.96it/s]\u001b[A\n",
            " 44%|██████████████████▋                       | 48/108 [00:03<00:03, 15.04it/s]\u001b[A\n",
            " 46%|███████████████████▍                      | 50/108 [00:03<00:03, 14.99it/s]\u001b[A\n",
            " 48%|████████████████████▏                     | 52/108 [00:04<00:03, 14.91it/s]\u001b[A\n",
            " 50%|█████████████████████                     | 54/108 [00:04<00:04, 13.16it/s]\u001b[A\n",
            " 52%|█████████████████████▊                    | 56/108 [00:04<00:03, 13.66it/s]\u001b[A\n",
            " 54%|██████████████████████▌                   | 58/108 [00:04<00:03, 14.04it/s]\u001b[A\n",
            " 56%|███████████████████████▎                  | 60/108 [00:04<00:03, 14.32it/s]\u001b[A\n",
            " 57%|████████████████████████                  | 62/108 [00:05<00:07,  6.11it/s]\u001b[A\n",
            " 59%|████████████████████████▉                 | 64/108 [00:05<00:05,  7.42it/s]\u001b[A"
          ]
        },
        {
          "output_type": "stream",
          "name": "stdout",
          "text": [
            "Epoch: 12/12 Step: 1250 Training Loss: 0.0047 Validation Loss: 0.0029\n"
          ]
        },
        {
          "output_type": "stream",
          "name": "stderr",
          "text": [
            "\n",
            " 61%|█████████████████████████▋                | 66/108 [00:05<00:04,  8.74it/s]\u001b[A\n",
            " 63%|██████████████████████████▍               | 68/108 [00:05<00:03, 10.02it/s]\u001b[A\n",
            " 65%|███████████████████████████▏              | 70/108 [00:05<00:03, 11.14it/s]\u001b[A\n",
            " 67%|████████████████████████████              | 72/108 [00:06<00:02, 12.12it/s]\u001b[A\n",
            " 69%|████████████████████████████▊             | 74/108 [00:06<00:02, 12.90it/s]\u001b[A\n",
            " 70%|█████████████████████████████▌            | 76/108 [00:06<00:02, 13.49it/s]\u001b[A\n",
            " 72%|██████████████████████████████▎           | 78/108 [00:06<00:02, 13.85it/s]\u001b[A\n",
            " 74%|███████████████████████████████           | 80/108 [00:06<00:01, 14.14it/s]\u001b[A\n",
            " 76%|███████████████████████████████▉          | 82/108 [00:06<00:01, 14.46it/s]\u001b[A\n",
            " 78%|████████████████████████████████▋         | 84/108 [00:06<00:01, 14.70it/s]\u001b[A\n",
            " 80%|█████████████████████████████████▍        | 86/108 [00:07<00:01, 14.89it/s]\u001b[A\n",
            " 81%|██████████████████████████████████▏       | 88/108 [00:07<00:01, 15.00it/s]\u001b[A\n",
            " 83%|███████████████████████████████████       | 90/108 [00:07<00:01, 14.79it/s]\u001b[A\n",
            " 85%|███████████████████████████████████▊      | 92/108 [00:07<00:01, 14.88it/s]\u001b[A\n",
            " 87%|████████████████████████████████████▌     | 94/108 [00:07<00:00, 15.01it/s]\u001b[A\n",
            " 89%|█████████████████████████████████████▎    | 96/108 [00:07<00:00, 15.09it/s]\u001b[A\n",
            " 91%|██████████████████████████████████████    | 98/108 [00:07<00:00, 15.09it/s]\u001b[A\n",
            " 93%|█████████████████████████████████████▉   | 100/108 [00:07<00:00, 15.14it/s]\u001b[A\n",
            " 94%|██████████████████████████████████████▋  | 102/108 [00:08<00:00, 15.03it/s]\u001b[A\n",
            " 96%|███████████████████████████████████████▍ | 104/108 [00:08<00:00, 14.54it/s]\u001b[A\n",
            " 98%|████████████████████████████████████████▏| 106/108 [00:08<00:00, 14.28it/s]\u001b[A\n",
            "100%|█████████████████████████████████████████| 108/108 [00:08<00:00, 12.63it/s]\n",
            "100%|███████████████████████████████████████████| 12/12 [01:44<00:00,  8.71s/it]\n"
          ]
        }
      ]
    },
    {
      "cell_type": "code",
      "source": [
        "net.eval()\n",
        "test_losses = []\n",
        "num_correct = 0\n",
        "test_h = net.init_hidden(BATCH_SIZE)\n",
        "net.to(device)\n",
        "for inputs, labels in test_loader:\n",
        "    inputs, labels = inputs.to(device), labels.to(device)\n",
        "    test_output, _ = net(inputs)\n",
        "    loss = criterion(test_output, labels.float().unsqueeze(dim=1))\n",
        "    test_losses.append(loss.item())\n",
        "\n",
        "    preds = torch.round(test_output.squeeze())\n",
        "    correct_tensor = preds.eq(labels.float().view_as(preds))\n",
        "    correct = np.squeeze(correct_tensor.cpu().numpy())\n",
        "    num_correct += np.sum(correct)\n",
        "\n",
        "print(\"Test Loss: {:.4f}\".format(np.mean(test_losses)))\n",
        "print(\"Test Accuracy: {:.2f}\".format(num_correct / len(test_loader.dataset)))"
      ],
      "metadata": {
        "colab": {
          "base_uri": "https://localhost:8080/"
        },
        "id": "uAk0OQR_zNel",
        "outputId": "cc56ff2c-9ccb-4884-e2c8-ab39f8a8dbea"
      },
      "execution_count": 33,
      "outputs": [
        {
          "output_type": "stream",
          "name": "stdout",
          "text": [
            "Test Loss: 1.2259\n",
            "Test Accuracy: 0.70\n"
          ]
        }
      ]
    }
  ]
}